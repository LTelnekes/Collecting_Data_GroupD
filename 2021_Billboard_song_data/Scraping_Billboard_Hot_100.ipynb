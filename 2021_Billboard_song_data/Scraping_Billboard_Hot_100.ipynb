{
 "cells": [
  {
   "cell_type": "code",
   "execution_count": 3,
   "id": "ff8ab7df",
   "metadata": {},
   "outputs": [
    {
     "name": "stdout",
     "output_type": "stream",
     "text": [
      "Requirement already satisfied: selenium in ./opt/Anaconda3/anaconda3/lib/python3.8/site-packages (4.7.2)\n",
      "Collecting selenium\n",
      "  Downloading selenium-4.16.0-py3-none-any.whl (10.0 MB)\n",
      "\u001b[K     |████████████████████████████████| 10.0 MB 6.9 MB/s eta 0:00:01\n",
      "\u001b[?25hRequirement already satisfied: trio-websocket~=0.9 in ./opt/Anaconda3/anaconda3/lib/python3.8/site-packages (from selenium) (0.9.2)\n",
      "Requirement already satisfied: certifi>=2021.10.8 in ./opt/Anaconda3/anaconda3/lib/python3.8/site-packages (from selenium) (2022.12.7)\n",
      "Requirement already satisfied: urllib3[socks]<3,>=1.26 in ./opt/Anaconda3/anaconda3/lib/python3.8/site-packages (from selenium) (1.26.4)\n",
      "Requirement already satisfied: trio~=0.17 in ./opt/Anaconda3/anaconda3/lib/python3.8/site-packages (from selenium) (0.22.0)\n",
      "Requirement already satisfied: sniffio in ./opt/Anaconda3/anaconda3/lib/python3.8/site-packages (from trio~=0.17->selenium) (1.2.0)\n",
      "Requirement already satisfied: attrs>=19.2.0 in ./opt/Anaconda3/anaconda3/lib/python3.8/site-packages (from trio~=0.17->selenium) (20.3.0)\n",
      "Requirement already satisfied: exceptiongroup>=1.0.0rc9 in ./opt/Anaconda3/anaconda3/lib/python3.8/site-packages (from trio~=0.17->selenium) (1.1.0)\n",
      "Requirement already satisfied: async-generator>=1.9 in ./opt/Anaconda3/anaconda3/lib/python3.8/site-packages (from trio~=0.17->selenium) (1.10)\n",
      "Requirement already satisfied: sortedcontainers in ./opt/Anaconda3/anaconda3/lib/python3.8/site-packages (from trio~=0.17->selenium) (2.3.0)\n",
      "Requirement already satisfied: outcome in ./opt/Anaconda3/anaconda3/lib/python3.8/site-packages (from trio~=0.17->selenium) (1.2.0)\n",
      "Requirement already satisfied: idna in ./opt/Anaconda3/anaconda3/lib/python3.8/site-packages (from trio~=0.17->selenium) (2.10)\n",
      "Requirement already satisfied: wsproto>=0.14 in ./opt/Anaconda3/anaconda3/lib/python3.8/site-packages (from trio-websocket~=0.9->selenium) (1.2.0)\n",
      "Requirement already satisfied: PySocks!=1.5.7,<2.0,>=1.5.6 in ./opt/Anaconda3/anaconda3/lib/python3.8/site-packages (from urllib3[socks]<3,>=1.26->selenium) (1.7.1)\n",
      "Requirement already satisfied: h11<1,>=0.9.0 in ./opt/Anaconda3/anaconda3/lib/python3.8/site-packages (from wsproto>=0.14->trio-websocket~=0.9->selenium) (0.14.0)\n",
      "Installing collected packages: selenium\n",
      "  Attempting uninstall: selenium\n",
      "    Found existing installation: selenium 4.7.2\n",
      "    Uninstalling selenium-4.7.2:\n",
      "      Successfully uninstalled selenium-4.7.2\n",
      "Successfully installed selenium-4.16.0\n",
      "Note: you may need to restart the kernel to use updated packages.\n"
     ]
    }
   ],
   "source": [
    "pip install --upgrade selenium"
   ]
  },
  {
   "cell_type": "code",
   "execution_count": 18,
   "id": "a7342e18",
   "metadata": {},
   "outputs": [
    {
     "name": "stdout",
     "output_type": "stream",
     "text": [
      "Collecting webdriver_manager\n",
      "  Downloading webdriver_manager-4.0.1-py2.py3-none-any.whl (27 kB)\n",
      "Requirement already satisfied: packaging in ./opt/Anaconda3/anaconda3/lib/python3.8/site-packages (from webdriver_manager) (20.9)\n",
      "Requirement already satisfied: requests in ./opt/Anaconda3/anaconda3/lib/python3.8/site-packages (from webdriver_manager) (2.25.1)\n",
      "Collecting python-dotenv\n",
      "  Downloading python_dotenv-1.0.0-py3-none-any.whl (19 kB)\n",
      "Requirement already satisfied: pyparsing>=2.0.2 in ./opt/Anaconda3/anaconda3/lib/python3.8/site-packages (from packaging->webdriver_manager) (2.4.7)\n",
      "Requirement already satisfied: urllib3<1.27,>=1.21.1 in ./opt/Anaconda3/anaconda3/lib/python3.8/site-packages (from requests->webdriver_manager) (1.26.4)\n",
      "Requirement already satisfied: chardet<5,>=3.0.2 in ./opt/Anaconda3/anaconda3/lib/python3.8/site-packages (from requests->webdriver_manager) (4.0.0)\n",
      "Requirement already satisfied: idna<3,>=2.5 in ./opt/Anaconda3/anaconda3/lib/python3.8/site-packages (from requests->webdriver_manager) (2.10)\n",
      "Requirement already satisfied: certifi>=2017.4.17 in ./opt/Anaconda3/anaconda3/lib/python3.8/site-packages (from requests->webdriver_manager) (2022.12.7)\n",
      "Installing collected packages: python-dotenv, webdriver-manager\n",
      "Successfully installed python-dotenv-1.0.0 webdriver-manager-4.0.1\n",
      "Note: you may need to restart the kernel to use updated packages.\n"
     ]
    }
   ],
   "source": [
    "pip install webdriver_manager"
   ]
  },
  {
   "cell_type": "code",
   "execution_count": 64,
   "id": "589df827",
   "metadata": {},
   "outputs": [
    {
     "name": "stderr",
     "output_type": "stream",
     "text": [
      "<ipython-input-64-dba73dc35d0d>:22: DeprecationWarning: executable_path has been deprecated, please pass in a Service object\n",
      "  driver = webdriver.Chrome(ChromeDriverManager().install(), options=chrome_options)\n"
     ]
    },
    {
     "name": "stdout",
     "output_type": "stream",
     "text": [
      "CSV file saved to /Users/wanshuo/Desktop/2022_01_01_song_data.csv\n"
     ]
    }
   ],
   "source": [
    "# Import the required libraries\n",
    "import csv\n",
    "from os.path import expanduser\n",
    "from selenium import webdriver\n",
    "from webdriver_manager.chrome import ChromeDriverManager\n",
    "from selenium.webdriver.chrome.options import Options\n",
    "from selenium.webdriver.common.by import By\n",
    "from selenium.webdriver.support.ui import WebDriverWait\n",
    "from selenium.webdriver.support import expected_conditions as EC\n",
    "import time\n",
    "\n",
    "# Specify the preferences for displaying images and videos\n",
    "# 1 for displaying images and videos, 2 for not displaying images and videos. When images are not needed to be crawled, they can be set to not load images to save time.\n",
    "prefs = {\n",
    "    \"profile.managed_default_content_settings.images\": 2,\n",
    "    \"profile.managed_default_content_settings.plugins\": 2\n",
    "}\n",
    "\n",
    "# Create Chrome options\n",
    "chrome_options = Options()\n",
    "chrome_options.add_experimental_option(\"prefs\", prefs)\n",
    "\n",
    "# Create ChromeDriver instance with options\n",
    "driver = webdriver.Chrome(ChromeDriverManager().install(), options=chrome_options)\n",
    "\n",
    "# Website URL\n",
    "url = 'https://www.billboard.com/charts/hot-100/2022-01-01/'\n",
    "\n",
    "# Navigate to the website\n",
    "driver.get(url)\n",
    "\n",
    "# Wait for 10 seconds for the page to load\n",
    "time.sleep(10)\n",
    "\n",
    "# Use WebDriverWait to wait for the element to load\n",
    "element = WebDriverWait(driver, 10).until(\n",
    "    EC.presence_of_element_located((By.XPATH, '//*[@id=\"post-1479786\"]/div[3]/div/div/div/div[2]/div'))\n",
    ")\n",
    "\n",
    "# Get the parent div containing all song information\n",
    "songs_div = driver.find_element(By.XPATH, '//*[@id=\"post-1479786\"]/div[3]/div/div/div/div[2]/div')\n",
    "                                           \n",
    "# Get all song names\n",
    "song_names = songs_div.find_elements(By.XPATH, '//*[@id=\"post-1479786\"]/div[3]/div/div/div/div[2]/div/ul/li[4]/ul/li[1]/h3')\n",
    "                                          \n",
    "# Get all artist names\n",
    "artist_names = songs_div.find_elements(By.XPATH, '//*[@id=\"post-1479786\"]/div[3]/div/div/div/div[2]/div/ul/li[4]/ul/li[1]/span')\n",
    "                                                 \n",
    "# Get the desktop path\n",
    "desktop_path = expanduser(\"~/Desktop\")\n",
    "\n",
    "# Create a CSV file and write headers\n",
    "csv_file_path = f\"{desktop_path}/2022_01_01_song_data.csv\"\n",
    "with open(csv_file_path, 'w', newline='', encoding='utf-8') as csvfile:\n",
    "    csv_writer = csv.writer(csvfile)\n",
    "    csv_writer.writerow(['Number', 'Song Name', 'Artist Name'])\n",
    "\n",
    "    # Write song names and artist names to the CSV file with a corresponding number\n",
    "    for i, (song_name, artist_name) in enumerate(zip(song_names, artist_names), start=1):\n",
    "        csv_writer.writerow([i, song_name.text, artist_name.text])\n",
    "\n",
    "# Close the browser window\n",
    "driver.quit()\n",
    "\n",
    "print(f\"CSV file saved to {csv_file_path}\")\n"
   ]
  },
  {
   "cell_type": "code",
   "execution_count": null,
   "id": "73e89c44",
   "metadata": {},
   "outputs": [],
   "source": []
  }
 ],
 "metadata": {
  "kernelspec": {
   "display_name": "Python 3",
   "language": "python",
   "name": "python3"
  },
  "language_info": {
   "codemirror_mode": {
    "name": "ipython",
    "version": 3
   },
   "file_extension": ".py",
   "mimetype": "text/x-python",
   "name": "python",
   "nbconvert_exporter": "python",
   "pygments_lexer": "ipython3",
   "version": "3.8.8"
  }
 },
 "nbformat": 4,
 "nbformat_minor": 5
}
