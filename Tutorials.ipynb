{
 "cells": [
  {
   "cell_type": "markdown",
   "id": "ce0afe4b-caeb-47e4-88c0-c8d4fdbc4f5b",
   "metadata": {},
   "source": [
    "<font color='green'> Tips: Please name the two dataset 'Spotify_2021_weekly.csv','Billboard_2021_weekly.csv' and put them in the same folder with this Jupyter Notebook. <font>"
   ]
  },
  {
   "cell_type": "markdown",
   "id": "8b136c1b-205b-4fd5-91dc-1577c6167ace",
   "metadata": {},
   "source": [
    "## Music Popularity Across Platforms: United States' Spotify Charts vs. Billboard Hot 100"
   ]
  },
  {
   "cell_type": "markdown",
   "id": "183fec4e-16a7-4d6d-aab6-b34e57c17822",
   "metadata": {},
   "source": [
    "## Part 1. Collecting Data"
   ]
  },
  {
   "cell_type": "markdown",
   "id": "de736cbe-0313-4964-bb32-ec19d51c7b66",
   "metadata": {},
   "source": [
    "To answer our research question, we need to collect data on the top songs in USA shown on Spotify and the Billboard Top 100, including information surrounding the artist's name, song title, place in the top 100, and the number of weeks the song has spent on a music chart."
   ]
  },
  {
   "cell_type": "markdown",
   "id": "5a1566d9-606f-4a8b-a610-60025e720513",
   "metadata": {},
   "source": [
    "### 1.1. Create a Dataset from Weekly Spotify Charts"
   ]
  },
  {
   "cell_type": "markdown",
   "id": "e00fb0c7-1550-49c2-9b4b-64b6fa31a282",
   "metadata": {},
   "source": [
    "1) Download the weekly charts"
   ]
  },
  {
   "cell_type": "markdown",
   "id": "b4c4e7db-42af-4ecf-abd6-9e1d47c3c342",
   "metadata": {},
   "source": [
    "To compile a comprehensive dataset for our analysis, we downloaded top 200 weekly charts spanning all 52 weeks of 2021 from the Spotify Charts website (https://charts.spotify.com/charts/overview/us), which archives weekly charts from various countries."
   ]
  },
  {
   "cell_type": "markdown",
   "id": "35469e3a-a71a-497b-8f6a-4ca0f0861e12",
   "metadata": {},
   "source": [
    "2) Combine weekly chart data and enrich the dataset"
   ]
  },
  {
   "cell_type": "code",
   "execution_count": 16,
   "id": "392e9dbd-dab9-4ea7-a72f-ef073ad5d726",
   "metadata": {},
   "outputs": [],
   "source": [
    "import os\n",
    "import pandas as pd"
   ]
  },
  {
   "cell_type": "markdown",
   "id": "25ad0d2c-6d7b-43ee-8f0d-582e208babc1",
   "metadata": {},
   "source": [
    "3) Define the columns we need for the weekly dataset"
   ]
  },
  {
   "cell_type": "code",
   "execution_count": 17,
   "id": "64a60d2b-c2e6-41df-808c-6b757e4c097b",
   "metadata": {},
   "outputs": [],
   "source": [
    "col_weekly = ['rank', 'uri', 'artist_names','track_name',\n",
    "              'peak_rank', 'previous_rank', 'weeks_on_chart', 'streams', 'date',\n",
    "              'country']"
   ]
  },
  {
   "cell_type": "markdown",
   "id": "849fc948-e94d-418e-a92a-c3627ef513d5",
   "metadata": {},
   "source": [
    "4) Function to Combine Data from Multiple CSV Files, Add New Columns, and Extract Top 100 Songs"
   ]
  },
  {
   "cell_type": "code",
   "execution_count": 18,
   "id": "c9a4c184-ccfb-4049-99f5-fdc5381cbf24",
   "metadata": {},
   "outputs": [],
   "source": [
    "def weekly_concat(directory):\n",
    "    # Initialize an empty DataFrame with the specified columns\n",
    "    df = pd.DataFrame(columns=col_weekly)\n",
    "\n",
    "    for filename in os.listdir(directory):\n",
    "        f = os.path.join(directory, filename)\n",
    "\n",
    "        # checking if it is a file\n",
    "        if os.path.isfile(f):\n",
    "            # Read the first 100 rows from each CSV file\n",
    "            df_week = pd.read_csv(f, nrows=100)\n",
    "            # Extract the date from the filename\n",
    "            date = f[-14:-4]\n",
    "            # Add 'date' and 'country' columns to the DataFrame\n",
    "            df_week['date'] = date\n",
    "            df_week['country'] = country\n",
    "            df = pd.concat([df, df_week], ignore_index=True) \n",
    "\n",
    "    df.to_csv('Spotify_2021_us.csv', index=False) \n",
    "\n",
    "    return None"
   ]
  },
  {
   "cell_type": "markdown",
   "id": "3c8ce9e0-6547-4069-a05f-b516adc86821",
   "metadata": {},
   "source": [
    "5) Specify the directory containing CSV files and set the country"
   ]
  },
  {
   "cell_type": "code",
   "execution_count": 19,
   "id": "1c22f255-d4fc-46ee-89b6-5d4b7defc073",
   "metadata": {},
   "outputs": [],
   "source": [
    "directory = 'Dataset_US'\n",
    "country = 'US'"
   ]
  },
  {
   "cell_type": "markdown",
   "id": "0cc5224d-9d0f-47ec-b594-87d65669079f",
   "metadata": {},
   "source": [
    "6) Call the function with the specified directory"
   ]
  },
  {
   "cell_type": "code",
   "execution_count": null,
   "id": "a71a1dc9-2fdf-42eb-a94a-40c550da7e3f",
   "metadata": {},
   "outputs": [],
   "source": [
    "weekly_concat('CD_data/Spotify_2021_weekly/Dataset_US')"
   ]
  },
  {
   "cell_type": "markdown",
   "id": "b6eab640-d150-4614-8644-820be053342e",
   "metadata": {},
   "source": [
    "**Now, our dataset encompasses the weekly Spotify charts with the following columns: 'rank', 'uri', 'artist_names', 'track_name', 'peak_rank', 'previous_rank', 'weeks_on_chart', 'streams', 'date', and 'country'.**"
   ]
  },
  {
   "cell_type": "markdown",
   "id": "c1bbf1ef-d4a9-46f9-a0a6-e4ae39108386",
   "metadata": {},
   "source": [
    "### 1.2. Extract the dataset from Weekly Billboard Charts"
   ]
  },
  {
   "cell_type": "markdown",
   "id": "99568abb-a4ef-4e6a-939e-faa6335f604e",
   "metadata": {},
   "source": [
    "Every week, Billboard releases \"The Hot 100\" chart of songs that were trending on sales and airplay for that week.  \n",
    "We discovered a dataset related to Billboard top charts on Kaggle (https://www.kaggle.com/datasets/dhruvildave/billboard-the-hot-100-songs/data). This dataset encompasses all \"The Hot 100\" charts released since its initiation in 1958.   \n",
    "For our project, we extracted the data corresponding to the 52 weeks of 2021 in Excel."
   ]
  },
  {
   "cell_type": "markdown",
   "id": "4269ede2-37fe-4588-aed0-29b609162d56",
   "metadata": {},
   "source": [
    "**Then, this dataset includes the weekly Billboard charts with the following columns: 'date', 'rank', 'song', 'artist', 'last-week', 'peak-rank', and 'weeks-on-board'.**"
   ]
  },
  {
   "cell_type": "markdown",
   "id": "fd0089ec-098c-42ed-b286-ac6653266951",
   "metadata": {},
   "source": [
    "## Part 2. Import and Clean the Dataset"
   ]
  },
  {
   "cell_type": "markdown",
   "id": "37607d41-f3ae-4bdd-89c2-6d4f5b907013",
   "metadata": {},
   "source": [
    "1) Import the dataset"
   ]
  },
  {
   "cell_type": "code",
   "execution_count": 105,
   "id": "ad576f95-10f4-4c55-b982-f98777552493",
   "metadata": {},
   "outputs": [],
   "source": [
    "spotify_df = pd.read_csv(''path_to_Spotify_2021_weekly.csv'', delimiter=\",\", encoding = 'utf-8')\n",
    "billboard_df = pd.read_csv(''path_to_Billdoard_2021_weekly.csv'', delimiter=\",\", encoding = 'utf-8')"
   ]
  },
  {
   "cell_type": "markdown",
   "id": "c4284295-6470-4e6c-ac05-09cfc73b9354",
   "metadata": {},
   "source": [
    "Let's see how they look so far!"
   ]
  },
  {
   "cell_type": "code",
   "execution_count": 106,
   "id": "fcba0d23-9a41-4220-b22d-670b159ac162",
   "metadata": {},
   "outputs": [
    {
     "data": {
      "text/html": [
       "<div>\n",
       "<style scoped>\n",
       "    .dataframe tbody tr th:only-of-type {\n",
       "        vertical-align: middle;\n",
       "    }\n",
       "\n",
       "    .dataframe tbody tr th {\n",
       "        vertical-align: top;\n",
       "    }\n",
       "\n",
       "    .dataframe thead th {\n",
       "        text-align: right;\n",
       "    }\n",
       "</style>\n",
       "<table border=\"1\" class=\"dataframe\">\n",
       "  <thead>\n",
       "    <tr style=\"text-align: right;\">\n",
       "      <th></th>\n",
       "      <th>rank</th>\n",
       "      <th>uri</th>\n",
       "      <th>artist_names</th>\n",
       "      <th>track_name</th>\n",
       "      <th>peak_rank</th>\n",
       "      <th>previous_rank</th>\n",
       "      <th>weeks_on_chart</th>\n",
       "      <th>streams</th>\n",
       "      <th>date</th>\n",
       "      <th>country</th>\n",
       "      <th>source</th>\n",
       "    </tr>\n",
       "  </thead>\n",
       "  <tbody>\n",
       "    <tr>\n",
       "      <th>2486</th>\n",
       "      <td>87</td>\n",
       "      <td>spotify:track:2ZXxRC6V6AXzMdbLQZMHSB</td>\n",
       "      <td>Lil Tecca</td>\n",
       "      <td>LOT OF ME</td>\n",
       "      <td>65</td>\n",
       "      <td>67</td>\n",
       "      <td>5</td>\n",
       "      <td>2032177</td>\n",
       "      <td>2021/10/21</td>\n",
       "      <td>US</td>\n",
       "      <td>Galactic / Republic Records</td>\n",
       "    </tr>\n",
       "    <tr>\n",
       "      <th>40</th>\n",
       "      <td>41</td>\n",
       "      <td>spotify:track:5JCoSi02qi3jJeHdZXMmR8</td>\n",
       "      <td>Olivia Rodrigo</td>\n",
       "      <td>favorite crime</td>\n",
       "      <td>5</td>\n",
       "      <td>32</td>\n",
       "      <td>14</td>\n",
       "      <td>2880816</td>\n",
       "      <td>2021/8/26</td>\n",
       "      <td>US</td>\n",
       "      <td>Olivia Rodrigo PS</td>\n",
       "    </tr>\n",
       "    <tr>\n",
       "      <th>861</th>\n",
       "      <td>62</td>\n",
       "      <td>spotify:track:15EH2glphTjcarRjAsc0EB</td>\n",
       "      <td>Migos</td>\n",
       "      <td>Straightenin</td>\n",
       "      <td>30</td>\n",
       "      <td>32</td>\n",
       "      <td>6</td>\n",
       "      <td>2522383</td>\n",
       "      <td>2021/6/24</td>\n",
       "      <td>US</td>\n",
       "      <td>Quality Control Music/Motown Records</td>\n",
       "    </tr>\n",
       "    <tr>\n",
       "      <th>1350</th>\n",
       "      <td>51</td>\n",
       "      <td>spotify:track:4qu63nuBpdn0qHUHuObEj1</td>\n",
       "      <td>Marshmello, Jonas Brothers</td>\n",
       "      <td>Leave Before You Love Me (with Jonas Brothers)</td>\n",
       "      <td>45</td>\n",
       "      <td>45</td>\n",
       "      <td>8</td>\n",
       "      <td>2744901</td>\n",
       "      <td>2021/7/15</td>\n",
       "      <td>US</td>\n",
       "      <td>Republic Records</td>\n",
       "    </tr>\n",
       "    <tr>\n",
       "      <th>1530</th>\n",
       "      <td>31</td>\n",
       "      <td>spotify:track:7kDUspsoYfLkWnZR7qwHZl</td>\n",
       "      <td>Machine Gun Kelly, blackbear</td>\n",
       "      <td>my ex's best friend (with blackbear)</td>\n",
       "      <td>11</td>\n",
       "      <td>27</td>\n",
       "      <td>29</td>\n",
       "      <td>2942533</td>\n",
       "      <td>2021/2/25</td>\n",
       "      <td>US</td>\n",
       "      <td>Bad Boy/Interscope Records</td>\n",
       "    </tr>\n",
       "    <tr>\n",
       "      <th>1092</th>\n",
       "      <td>93</td>\n",
       "      <td>spotify:track:3K07bGe8iljQ3mOKArHLDo</td>\n",
       "      <td>Chris Stapleton</td>\n",
       "      <td>Starting Over</td>\n",
       "      <td>43</td>\n",
       "      <td>-1</td>\n",
       "      <td>10</td>\n",
       "      <td>1963963</td>\n",
       "      <td>2021/4/22</td>\n",
       "      <td>US</td>\n",
       "      <td>Mercury Nashville</td>\n",
       "    </tr>\n",
       "    <tr>\n",
       "      <th>4716</th>\n",
       "      <td>17</td>\n",
       "      <td>spotify:track:2WnAKZefdRHxtBEkRjFOHC</td>\n",
       "      <td>Justin Bieber</td>\n",
       "      <td>Anyone</td>\n",
       "      <td>2</td>\n",
       "      <td>49</td>\n",
       "      <td>12</td>\n",
       "      <td>5139401</td>\n",
       "      <td>2021/3/25</td>\n",
       "      <td>US</td>\n",
       "      <td>RBMG/Def Jam</td>\n",
       "    </tr>\n",
       "    <tr>\n",
       "      <th>3137</th>\n",
       "      <td>38</td>\n",
       "      <td>spotify:track:38Vh0iUlilcvnBNWS4saSD</td>\n",
       "      <td>Juice WRLD</td>\n",
       "      <td>Doom</td>\n",
       "      <td>38</td>\n",
       "      <td>-1</td>\n",
       "      <td>1</td>\n",
       "      <td>3941416</td>\n",
       "      <td>2021/12/16</td>\n",
       "      <td>US</td>\n",
       "      <td>Grade A Productions/Interscope Records</td>\n",
       "    </tr>\n",
       "    <tr>\n",
       "      <th>4802</th>\n",
       "      <td>3</td>\n",
       "      <td>spotify:track:5CZ40GBx1sQ9agT82CLQCT</td>\n",
       "      <td>Olivia Rodrigo</td>\n",
       "      <td>traitor</td>\n",
       "      <td>3</td>\n",
       "      <td>3</td>\n",
       "      <td>3</td>\n",
       "      <td>9997883</td>\n",
       "      <td>2021/6/10</td>\n",
       "      <td>US</td>\n",
       "      <td>Olivia Rodrigo PS</td>\n",
       "    </tr>\n",
       "    <tr>\n",
       "      <th>3631</th>\n",
       "      <td>32</td>\n",
       "      <td>spotify:track:3DarAbFujv6eYNliUTyqtz</td>\n",
       "      <td>Doja Cat, SZA</td>\n",
       "      <td>Kiss Me More (feat. SZA)</td>\n",
       "      <td>1</td>\n",
       "      <td>19</td>\n",
       "      <td>22</td>\n",
       "      <td>5795297</td>\n",
       "      <td>2021/9/9</td>\n",
       "      <td>US</td>\n",
       "      <td>Kemosabe Records/RCA Records</td>\n",
       "    </tr>\n",
       "  </tbody>\n",
       "</table>\n",
       "</div>"
      ],
      "text/plain": [
       "      rank                                   uri  \\\n",
       "2486    87  spotify:track:2ZXxRC6V6AXzMdbLQZMHSB   \n",
       "40      41  spotify:track:5JCoSi02qi3jJeHdZXMmR8   \n",
       "861     62  spotify:track:15EH2glphTjcarRjAsc0EB   \n",
       "1350    51  spotify:track:4qu63nuBpdn0qHUHuObEj1   \n",
       "1530    31  spotify:track:7kDUspsoYfLkWnZR7qwHZl   \n",
       "1092    93  spotify:track:3K07bGe8iljQ3mOKArHLDo   \n",
       "4716    17  spotify:track:2WnAKZefdRHxtBEkRjFOHC   \n",
       "3137    38  spotify:track:38Vh0iUlilcvnBNWS4saSD   \n",
       "4802     3  spotify:track:5CZ40GBx1sQ9agT82CLQCT   \n",
       "3631    32  spotify:track:3DarAbFujv6eYNliUTyqtz   \n",
       "\n",
       "                      artist_names  \\\n",
       "2486                     Lil Tecca   \n",
       "40                  Olivia Rodrigo   \n",
       "861                          Migos   \n",
       "1350    Marshmello, Jonas Brothers   \n",
       "1530  Machine Gun Kelly, blackbear   \n",
       "1092               Chris Stapleton   \n",
       "4716                 Justin Bieber   \n",
       "3137                    Juice WRLD   \n",
       "4802                Olivia Rodrigo   \n",
       "3631                 Doja Cat, SZA   \n",
       "\n",
       "                                          track_name  peak_rank  \\\n",
       "2486                                       LOT OF ME         65   \n",
       "40                                    favorite crime          5   \n",
       "861                                     Straightenin         30   \n",
       "1350  Leave Before You Love Me (with Jonas Brothers)         45   \n",
       "1530            my ex's best friend (with blackbear)         11   \n",
       "1092                                   Starting Over         43   \n",
       "4716                                          Anyone          2   \n",
       "3137                                            Doom         38   \n",
       "4802                                         traitor          3   \n",
       "3631                        Kiss Me More (feat. SZA)          1   \n",
       "\n",
       "      previous_rank  weeks_on_chart  streams        date country  \\\n",
       "2486             67               5  2032177  2021/10/21      US   \n",
       "40               32              14  2880816   2021/8/26      US   \n",
       "861              32               6  2522383   2021/6/24      US   \n",
       "1350             45               8  2744901   2021/7/15      US   \n",
       "1530             27              29  2942533   2021/2/25      US   \n",
       "1092             -1              10  1963963   2021/4/22      US   \n",
       "4716             49              12  5139401   2021/3/25      US   \n",
       "3137             -1               1  3941416  2021/12/16      US   \n",
       "4802              3               3  9997883   2021/6/10      US   \n",
       "3631             19              22  5795297    2021/9/9      US   \n",
       "\n",
       "                                      source  \n",
       "2486             Galactic / Republic Records  \n",
       "40                         Olivia Rodrigo PS  \n",
       "861     Quality Control Music/Motown Records  \n",
       "1350                        Republic Records  \n",
       "1530              Bad Boy/Interscope Records  \n",
       "1092                       Mercury Nashville  \n",
       "4716                            RBMG/Def Jam  \n",
       "3137  Grade A Productions/Interscope Records  \n",
       "4802                       Olivia Rodrigo PS  \n",
       "3631            Kemosabe Records/RCA Records  "
      ]
     },
     "execution_count": 106,
     "metadata": {},
     "output_type": "execute_result"
    }
   ],
   "source": [
    "spotify_df.sample(10)"
   ]
  },
  {
   "cell_type": "code",
   "execution_count": 107,
   "id": "36bf73a9-1880-4bdc-886e-10fc501793aa",
   "metadata": {},
   "outputs": [
    {
     "data": {
      "text/html": [
       "<div>\n",
       "<style scoped>\n",
       "    .dataframe tbody tr th:only-of-type {\n",
       "        vertical-align: middle;\n",
       "    }\n",
       "\n",
       "    .dataframe tbody tr th {\n",
       "        vertical-align: top;\n",
       "    }\n",
       "\n",
       "    .dataframe thead th {\n",
       "        text-align: right;\n",
       "    }\n",
       "</style>\n",
       "<table border=\"1\" class=\"dataframe\">\n",
       "  <thead>\n",
       "    <tr style=\"text-align: right;\">\n",
       "      <th></th>\n",
       "      <th>date</th>\n",
       "      <th>rank</th>\n",
       "      <th>song</th>\n",
       "      <th>artist</th>\n",
       "      <th>last-week</th>\n",
       "      <th>peak-rank</th>\n",
       "      <th>weeks-on-board</th>\n",
       "    </tr>\n",
       "  </thead>\n",
       "  <tbody>\n",
       "    <tr>\n",
       "      <th>2689</th>\n",
       "      <td>2021/5/8</td>\n",
       "      <td>90</td>\n",
       "      <td>Arcade</td>\n",
       "      <td>Duncan Laurence</td>\n",
       "      <td>94.0</td>\n",
       "      <td>90</td>\n",
       "      <td>3</td>\n",
       "    </tr>\n",
       "    <tr>\n",
       "      <th>2663</th>\n",
       "      <td>2021/5/8</td>\n",
       "      <td>64</td>\n",
       "      <td>Come Through</td>\n",
       "      <td>H.E.R. Featuring Chris Brown</td>\n",
       "      <td>NaN</td>\n",
       "      <td>64</td>\n",
       "      <td>1</td>\n",
       "    </tr>\n",
       "    <tr>\n",
       "      <th>3419</th>\n",
       "      <td>2021/3/13</td>\n",
       "      <td>20</td>\n",
       "      <td>Good Time</td>\n",
       "      <td>Niko Moon</td>\n",
       "      <td>25.0</td>\n",
       "      <td>20</td>\n",
       "      <td>22</td>\n",
       "    </tr>\n",
       "    <tr>\n",
       "      <th>2631</th>\n",
       "      <td>2021/5/8</td>\n",
       "      <td>32</td>\n",
       "      <td>Therefore I Am</td>\n",
       "      <td>Billie Eilish</td>\n",
       "      <td>30.0</td>\n",
       "      <td>2</td>\n",
       "      <td>25</td>\n",
       "    </tr>\n",
       "    <tr>\n",
       "      <th>2528</th>\n",
       "      <td>2021/5/15</td>\n",
       "      <td>29</td>\n",
       "      <td>34+35</td>\n",
       "      <td>Ariana Grande</td>\n",
       "      <td>27.0</td>\n",
       "      <td>2</td>\n",
       "      <td>27</td>\n",
       "    </tr>\n",
       "    <tr>\n",
       "      <th>2542</th>\n",
       "      <td>2021/5/15</td>\n",
       "      <td>43</td>\n",
       "      <td>I Did It</td>\n",
       "      <td>DJ Khaled Featuring Post Malone, Megan Thee St...</td>\n",
       "      <td>NaN</td>\n",
       "      <td>43</td>\n",
       "      <td>1</td>\n",
       "    </tr>\n",
       "    <tr>\n",
       "      <th>2846</th>\n",
       "      <td>2021/4/24</td>\n",
       "      <td>47</td>\n",
       "      <td>Wants And Needs</td>\n",
       "      <td>Drake Featuring Lil Baby</td>\n",
       "      <td>38.0</td>\n",
       "      <td>2</td>\n",
       "      <td>6</td>\n",
       "    </tr>\n",
       "    <tr>\n",
       "      <th>2236</th>\n",
       "      <td>2021/6/5</td>\n",
       "      <td>37</td>\n",
       "      <td>Heat Waves</td>\n",
       "      <td>Glass Animals</td>\n",
       "      <td>42.0</td>\n",
       "      <td>33</td>\n",
       "      <td>19</td>\n",
       "    </tr>\n",
       "    <tr>\n",
       "      <th>849</th>\n",
       "      <td>2021/9/11</td>\n",
       "      <td>50</td>\n",
       "      <td>If I Didn't Love You</td>\n",
       "      <td>Jason Aldean &amp; Carrie Underwood</td>\n",
       "      <td>44.0</td>\n",
       "      <td>15</td>\n",
       "      <td>6</td>\n",
       "    </tr>\n",
       "    <tr>\n",
       "      <th>1545</th>\n",
       "      <td>2021/7/24</td>\n",
       "      <td>46</td>\n",
       "      <td>Wockesha</td>\n",
       "      <td>Moneybagg Yo</td>\n",
       "      <td>37.0</td>\n",
       "      <td>33</td>\n",
       "      <td>12</td>\n",
       "    </tr>\n",
       "  </tbody>\n",
       "</table>\n",
       "</div>"
      ],
      "text/plain": [
       "           date  rank                  song  \\\n",
       "2689   2021/5/8    90                Arcade   \n",
       "2663   2021/5/8    64          Come Through   \n",
       "3419  2021/3/13    20             Good Time   \n",
       "2631   2021/5/8    32        Therefore I Am   \n",
       "2528  2021/5/15    29                 34+35   \n",
       "2542  2021/5/15    43              I Did It   \n",
       "2846  2021/4/24    47       Wants And Needs   \n",
       "2236   2021/6/5    37            Heat Waves   \n",
       "849   2021/9/11    50  If I Didn't Love You   \n",
       "1545  2021/7/24    46              Wockesha   \n",
       "\n",
       "                                                 artist  last-week  peak-rank  \\\n",
       "2689                                    Duncan Laurence       94.0         90   \n",
       "2663                       H.E.R. Featuring Chris Brown        NaN         64   \n",
       "3419                                          Niko Moon       25.0         20   \n",
       "2631                                      Billie Eilish       30.0          2   \n",
       "2528                                      Ariana Grande       27.0          2   \n",
       "2542  DJ Khaled Featuring Post Malone, Megan Thee St...        NaN         43   \n",
       "2846                           Drake Featuring Lil Baby       38.0          2   \n",
       "2236                                      Glass Animals       42.0         33   \n",
       "849                     Jason Aldean & Carrie Underwood       44.0         15   \n",
       "1545                                       Moneybagg Yo       37.0         33   \n",
       "\n",
       "      weeks-on-board  \n",
       "2689               3  \n",
       "2663               1  \n",
       "3419              22  \n",
       "2631              25  \n",
       "2528              27  \n",
       "2542               1  \n",
       "2846               6  \n",
       "2236              19  \n",
       "849                6  \n",
       "1545              12  "
      ]
     },
     "execution_count": 107,
     "metadata": {},
     "output_type": "execute_result"
    }
   ],
   "source": [
    "billboard_df.sample(10)"
   ]
  },
  {
   "cell_type": "markdown",
   "id": "578d96ad-406f-4d58-bfc5-c63163479cc0",
   "metadata": {},
   "source": [
    "2) Rename the columns so the two datasets match"
   ]
  },
  {
   "cell_type": "code",
   "execution_count": 108,
   "id": "56c999b3-7c89-40ce-a0c6-e7802ba8a0f5",
   "metadata": {},
   "outputs": [],
   "source": [
    "spotify_df.rename(columns={'artist_names':'artist','track_name':'song','weeks_on_chart':'weeks_on_charts'},inplace= True)\n",
    "billboard_df.rename(columns={'peak-rank':'peak_rank','weeks-on-board':'weeks_on_charts'},inplace=True)"
   ]
  },
  {
   "cell_type": "markdown",
   "id": "5c1e6ff0-d289-4a56-aebc-3f15bb0c3e35",
   "metadata": {},
   "source": [
    "3) Drop columns that won't be analysed"
   ]
  },
  {
   "cell_type": "code",
   "execution_count": 109,
   "id": "53dcb885-8fa3-4788-80e3-8ca46c5d3b04",
   "metadata": {},
   "outputs": [],
   "source": [
    "spotify_df.drop(columns=['uri','country','source','previous_rank'],axis=1, inplace=True)\n",
    "billboard_df.drop(columns=['last-week'],axis=1, inplace=True)"
   ]
  },
  {
   "cell_type": "markdown",
   "id": "9224f820-1739-4f1d-999f-00763559037e",
   "metadata": {},
   "source": [
    "4) Change the order of the columns"
   ]
  },
  {
   "cell_type": "code",
   "execution_count": 110,
   "id": "727ccba2-72e3-42e4-b353-b4529f98beb2",
   "metadata": {},
   "outputs": [],
   "source": [
    "list_spotify = ['song','artist','date','rank','weeks_on_charts','peak_rank','streams']\n",
    "list_billboard = ['song','artist','date','rank','weeks_on_charts','peak_rank']"
   ]
  },
  {
   "cell_type": "code",
   "execution_count": 111,
   "id": "73eacbb6-c9b7-4bf9-9903-f172d8652548",
   "metadata": {},
   "outputs": [],
   "source": [
    "spotify_df = spotify_df[list_spotify]\n",
    "billboard_df = billboard_df[list_billboard]"
   ]
  },
  {
   "cell_type": "code",
   "execution_count": 112,
   "id": "9abd9115-821f-47a6-bfde-add09175bc62",
   "metadata": {},
   "outputs": [
    {
     "data": {
      "text/html": [
       "<div>\n",
       "<style scoped>\n",
       "    .dataframe tbody tr th:only-of-type {\n",
       "        vertical-align: middle;\n",
       "    }\n",
       "\n",
       "    .dataframe tbody tr th {\n",
       "        vertical-align: top;\n",
       "    }\n",
       "\n",
       "    .dataframe thead th {\n",
       "        text-align: right;\n",
       "    }\n",
       "</style>\n",
       "<table border=\"1\" class=\"dataframe\">\n",
       "  <thead>\n",
       "    <tr style=\"text-align: right;\">\n",
       "      <th></th>\n",
       "      <th>song</th>\n",
       "      <th>artist</th>\n",
       "      <th>date</th>\n",
       "      <th>rank</th>\n",
       "      <th>weeks_on_charts</th>\n",
       "      <th>peak_rank</th>\n",
       "      <th>streams</th>\n",
       "    </tr>\n",
       "  </thead>\n",
       "  <tbody>\n",
       "    <tr>\n",
       "      <th>0</th>\n",
       "      <td>STAY (with Justin Bieber)</td>\n",
       "      <td>The Kid LAROI, Justin Bieber</td>\n",
       "      <td>2021/8/26</td>\n",
       "      <td>1</td>\n",
       "      <td>7</td>\n",
       "      <td>1</td>\n",
       "      <td>13698566</td>\n",
       "    </tr>\n",
       "    <tr>\n",
       "      <th>1</th>\n",
       "      <td>INDUSTRY BABY (feat. Jack Harlow)</td>\n",
       "      <td>Lil Nas X, Jack Harlow</td>\n",
       "      <td>2021/8/26</td>\n",
       "      <td>2</td>\n",
       "      <td>5</td>\n",
       "      <td>1</td>\n",
       "      <td>11031868</td>\n",
       "    </tr>\n",
       "    <tr>\n",
       "      <th>2</th>\n",
       "      <td>good 4 u</td>\n",
       "      <td>Olivia Rodrigo</td>\n",
       "      <td>2021/8/26</td>\n",
       "      <td>3</td>\n",
       "      <td>15</td>\n",
       "      <td>1</td>\n",
       "      <td>8219210</td>\n",
       "    </tr>\n",
       "    <tr>\n",
       "      <th>3</th>\n",
       "      <td>Need to Know</td>\n",
       "      <td>Doja Cat</td>\n",
       "      <td>2021/8/26</td>\n",
       "      <td>4</td>\n",
       "      <td>11</td>\n",
       "      <td>4</td>\n",
       "      <td>8200497</td>\n",
       "    </tr>\n",
       "    <tr>\n",
       "      <th>4</th>\n",
       "      <td>Happier Than Ever</td>\n",
       "      <td>Billie Eilish</td>\n",
       "      <td>2021/8/26</td>\n",
       "      <td>5</td>\n",
       "      <td>4</td>\n",
       "      <td>3</td>\n",
       "      <td>7137596</td>\n",
       "    </tr>\n",
       "    <tr>\n",
       "      <th>5</th>\n",
       "      <td>Kiss Me More (feat. SZA)</td>\n",
       "      <td>Doja Cat, SZA</td>\n",
       "      <td>2021/8/26</td>\n",
       "      <td>6</td>\n",
       "      <td>20</td>\n",
       "      <td>1</td>\n",
       "      <td>6681635</td>\n",
       "    </tr>\n",
       "    <tr>\n",
       "      <th>6</th>\n",
       "      <td>Bad Habits</td>\n",
       "      <td>Ed Sheeran</td>\n",
       "      <td>2021/8/26</td>\n",
       "      <td>7</td>\n",
       "      <td>9</td>\n",
       "      <td>7</td>\n",
       "      <td>5527199</td>\n",
       "    </tr>\n",
       "    <tr>\n",
       "      <th>7</th>\n",
       "      <td>2055</td>\n",
       "      <td>Sleepy Hallow</td>\n",
       "      <td>2021/8/26</td>\n",
       "      <td>8</td>\n",
       "      <td>10</td>\n",
       "      <td>8</td>\n",
       "      <td>5421722</td>\n",
       "    </tr>\n",
       "    <tr>\n",
       "      <th>8</th>\n",
       "      <td>Heat Waves</td>\n",
       "      <td>Glass Animals</td>\n",
       "      <td>2021/8/26</td>\n",
       "      <td>9</td>\n",
       "      <td>39</td>\n",
       "      <td>9</td>\n",
       "      <td>5257889</td>\n",
       "    </tr>\n",
       "    <tr>\n",
       "      <th>9</th>\n",
       "      <td>MONTERO (Call Me By Your Name)</td>\n",
       "      <td>Lil Nas X</td>\n",
       "      <td>2021/8/26</td>\n",
       "      <td>10</td>\n",
       "      <td>22</td>\n",
       "      <td>1</td>\n",
       "      <td>5235498</td>\n",
       "    </tr>\n",
       "  </tbody>\n",
       "</table>\n",
       "</div>"
      ],
      "text/plain": [
       "                                song                        artist       date  \\\n",
       "0          STAY (with Justin Bieber)  The Kid LAROI, Justin Bieber  2021/8/26   \n",
       "1  INDUSTRY BABY (feat. Jack Harlow)        Lil Nas X, Jack Harlow  2021/8/26   \n",
       "2                           good 4 u                Olivia Rodrigo  2021/8/26   \n",
       "3                       Need to Know                      Doja Cat  2021/8/26   \n",
       "4                  Happier Than Ever                 Billie Eilish  2021/8/26   \n",
       "5           Kiss Me More (feat. SZA)                 Doja Cat, SZA  2021/8/26   \n",
       "6                         Bad Habits                    Ed Sheeran  2021/8/26   \n",
       "7                               2055                 Sleepy Hallow  2021/8/26   \n",
       "8                         Heat Waves                 Glass Animals  2021/8/26   \n",
       "9     MONTERO (Call Me By Your Name)                     Lil Nas X  2021/8/26   \n",
       "\n",
       "   rank  weeks_on_charts  peak_rank   streams  \n",
       "0     1                7          1  13698566  \n",
       "1     2                5          1  11031868  \n",
       "2     3               15          1   8219210  \n",
       "3     4               11          4   8200497  \n",
       "4     5                4          3   7137596  \n",
       "5     6               20          1   6681635  \n",
       "6     7                9          7   5527199  \n",
       "7     8               10          8   5421722  \n",
       "8     9               39          9   5257889  \n",
       "9    10               22          1   5235498  "
      ]
     },
     "execution_count": 112,
     "metadata": {},
     "output_type": "execute_result"
    }
   ],
   "source": [
    "spotify_df.head(10)"
   ]
  },
  {
   "cell_type": "code",
   "execution_count": 113,
   "id": "0d668263-04d0-41dc-a165-e8fdf205af36",
   "metadata": {},
   "outputs": [
    {
     "data": {
      "text/html": [
       "<div>\n",
       "<style scoped>\n",
       "    .dataframe tbody tr th:only-of-type {\n",
       "        vertical-align: middle;\n",
       "    }\n",
       "\n",
       "    .dataframe tbody tr th {\n",
       "        vertical-align: top;\n",
       "    }\n",
       "\n",
       "    .dataframe thead th {\n",
       "        text-align: right;\n",
       "    }\n",
       "</style>\n",
       "<table border=\"1\" class=\"dataframe\">\n",
       "  <thead>\n",
       "    <tr style=\"text-align: right;\">\n",
       "      <th></th>\n",
       "      <th>song</th>\n",
       "      <th>artist</th>\n",
       "      <th>date</th>\n",
       "      <th>rank</th>\n",
       "      <th>weeks_on_charts</th>\n",
       "      <th>peak_rank</th>\n",
       "    </tr>\n",
       "  </thead>\n",
       "  <tbody>\n",
       "    <tr>\n",
       "      <th>0</th>\n",
       "      <td>Easy On Me</td>\n",
       "      <td>Adele</td>\n",
       "      <td>2021/11/6</td>\n",
       "      <td>1</td>\n",
       "      <td>3</td>\n",
       "      <td>1</td>\n",
       "    </tr>\n",
       "    <tr>\n",
       "      <th>1</th>\n",
       "      <td>Stay</td>\n",
       "      <td>The Kid LAROI &amp; Justin Bieber</td>\n",
       "      <td>2021/11/6</td>\n",
       "      <td>2</td>\n",
       "      <td>16</td>\n",
       "      <td>1</td>\n",
       "    </tr>\n",
       "    <tr>\n",
       "      <th>2</th>\n",
       "      <td>Industry Baby</td>\n",
       "      <td>Lil Nas X &amp; Jack Harlow</td>\n",
       "      <td>2021/11/6</td>\n",
       "      <td>3</td>\n",
       "      <td>14</td>\n",
       "      <td>1</td>\n",
       "    </tr>\n",
       "    <tr>\n",
       "      <th>3</th>\n",
       "      <td>Fancy Like</td>\n",
       "      <td>Walker Hayes</td>\n",
       "      <td>2021/11/6</td>\n",
       "      <td>4</td>\n",
       "      <td>19</td>\n",
       "      <td>3</td>\n",
       "    </tr>\n",
       "    <tr>\n",
       "      <th>4</th>\n",
       "      <td>Bad Habits</td>\n",
       "      <td>Ed Sheeran</td>\n",
       "      <td>2021/11/6</td>\n",
       "      <td>5</td>\n",
       "      <td>18</td>\n",
       "      <td>2</td>\n",
       "    </tr>\n",
       "    <tr>\n",
       "      <th>5</th>\n",
       "      <td>Way 2 Sexy</td>\n",
       "      <td>Drake Featuring Future &amp; Young Thug</td>\n",
       "      <td>2021/11/6</td>\n",
       "      <td>6</td>\n",
       "      <td>8</td>\n",
       "      <td>1</td>\n",
       "    </tr>\n",
       "    <tr>\n",
       "      <th>6</th>\n",
       "      <td>Shivers</td>\n",
       "      <td>Ed Sheeran</td>\n",
       "      <td>2021/11/6</td>\n",
       "      <td>7</td>\n",
       "      <td>7</td>\n",
       "      <td>7</td>\n",
       "    </tr>\n",
       "    <tr>\n",
       "      <th>7</th>\n",
       "      <td>Good 4 U</td>\n",
       "      <td>Olivia Rodrigo</td>\n",
       "      <td>2021/11/6</td>\n",
       "      <td>8</td>\n",
       "      <td>24</td>\n",
       "      <td>1</td>\n",
       "    </tr>\n",
       "    <tr>\n",
       "      <th>8</th>\n",
       "      <td>Need To Know</td>\n",
       "      <td>Doja Cat</td>\n",
       "      <td>2021/11/6</td>\n",
       "      <td>9</td>\n",
       "      <td>20</td>\n",
       "      <td>9</td>\n",
       "    </tr>\n",
       "    <tr>\n",
       "      <th>9</th>\n",
       "      <td>Levitating</td>\n",
       "      <td>Dua Lipa</td>\n",
       "      <td>2021/11/6</td>\n",
       "      <td>10</td>\n",
       "      <td>56</td>\n",
       "      <td>2</td>\n",
       "    </tr>\n",
       "  </tbody>\n",
       "</table>\n",
       "</div>"
      ],
      "text/plain": [
       "            song                               artist       date  rank  \\\n",
       "0     Easy On Me                                Adele  2021/11/6     1   \n",
       "1           Stay        The Kid LAROI & Justin Bieber  2021/11/6     2   \n",
       "2  Industry Baby              Lil Nas X & Jack Harlow  2021/11/6     3   \n",
       "3     Fancy Like                         Walker Hayes  2021/11/6     4   \n",
       "4     Bad Habits                           Ed Sheeran  2021/11/6     5   \n",
       "5     Way 2 Sexy  Drake Featuring Future & Young Thug  2021/11/6     6   \n",
       "6        Shivers                           Ed Sheeran  2021/11/6     7   \n",
       "7       Good 4 U                       Olivia Rodrigo  2021/11/6     8   \n",
       "8   Need To Know                             Doja Cat  2021/11/6     9   \n",
       "9     Levitating                             Dua Lipa  2021/11/6    10   \n",
       "\n",
       "   weeks_on_charts  peak_rank  \n",
       "0                3          1  \n",
       "1               16          1  \n",
       "2               14          1  \n",
       "3               19          3  \n",
       "4               18          2  \n",
       "5                8          1  \n",
       "6                7          7  \n",
       "7               24          1  \n",
       "8               20          9  \n",
       "9               56          2  "
      ]
     },
     "execution_count": 113,
     "metadata": {},
     "output_type": "execute_result"
    }
   ],
   "source": [
    "billboard_df.head(10)"
   ]
  },
  {
   "cell_type": "markdown",
   "id": "b1d8b4b9-3fc4-41df-ad0d-3620e584f3a1",
   "metadata": {},
   "source": [
    "## Part 3. Data Exploration\n",
    "### Now that we have our two datasets, it's time to explore!\n",
    "Let's see what the most popular songs are on Billboard and on Spotify. However, this dataset offers us several measures of popularity. The first way would be to measure by rank, so let's sort the dataset and have a look."
   ]
  },
  {
   "cell_type": "markdown",
   "id": "658b71f0-547d-4902-a273-f4b184bdd7ef",
   "metadata": {},
   "source": [
    "### 3.1 Sorting dataframes\n",
    "We can create sorted dataframe using the 'sort_values' method. "
   ]
  },
  {
   "cell_type": "code",
   "execution_count": 114,
   "id": "3dccd84b-cc3b-40bd-a908-853a26f30183",
   "metadata": {},
   "outputs": [],
   "source": [
    "billboard_rank_sorted = billboard_df.sort_values(by=['rank'], ascending = True)\n",
    "spotify_rank_sorted = spotify_df.sort_values(by=['rank'], ascending = True)"
   ]
  },
  {
   "cell_type": "code",
   "execution_count": 115,
   "id": "96ea34be-8bfc-4ee7-b2a6-c23a794f3909",
   "metadata": {},
   "outputs": [
    {
     "data": {
      "text/html": [
       "<div>\n",
       "<style scoped>\n",
       "    .dataframe tbody tr th:only-of-type {\n",
       "        vertical-align: middle;\n",
       "    }\n",
       "\n",
       "    .dataframe tbody tr th {\n",
       "        vertical-align: top;\n",
       "    }\n",
       "\n",
       "    .dataframe thead th {\n",
       "        text-align: right;\n",
       "    }\n",
       "</style>\n",
       "<table border=\"1\" class=\"dataframe\">\n",
       "  <thead>\n",
       "    <tr style=\"text-align: right;\">\n",
       "      <th></th>\n",
       "      <th>song</th>\n",
       "      <th>artist</th>\n",
       "      <th>date</th>\n",
       "      <th>rank</th>\n",
       "      <th>weeks_on_charts</th>\n",
       "      <th>peak_rank</th>\n",
       "    </tr>\n",
       "  </thead>\n",
       "  <tbody>\n",
       "    <tr>\n",
       "      <th>0</th>\n",
       "      <td>Easy On Me</td>\n",
       "      <td>Adele</td>\n",
       "      <td>2021/11/6</td>\n",
       "      <td>1</td>\n",
       "      <td>3</td>\n",
       "      <td>1</td>\n",
       "    </tr>\n",
       "    <tr>\n",
       "      <th>3500</th>\n",
       "      <td>Drivers License</td>\n",
       "      <td>Olivia Rodrigo</td>\n",
       "      <td>2021/3/6</td>\n",
       "      <td>1</td>\n",
       "      <td>7</td>\n",
       "      <td>1</td>\n",
       "    </tr>\n",
       "    <tr>\n",
       "      <th>2800</th>\n",
       "      <td>Rapstar</td>\n",
       "      <td>Polo G</td>\n",
       "      <td>2021/4/24</td>\n",
       "      <td>1</td>\n",
       "      <td>1</td>\n",
       "      <td>1</td>\n",
       "    </tr>\n",
       "    <tr>\n",
       "      <th>1500</th>\n",
       "      <td>Permission To Dance</td>\n",
       "      <td>BTS</td>\n",
       "      <td>2021/7/24</td>\n",
       "      <td>1</td>\n",
       "      <td>1</td>\n",
       "      <td>1</td>\n",
       "    </tr>\n",
       "    <tr>\n",
       "      <th>1000</th>\n",
       "      <td>Stay</td>\n",
       "      <td>The Kid LAROI &amp; Justin Bieber</td>\n",
       "      <td>2021/8/28</td>\n",
       "      <td>1</td>\n",
       "      <td>6</td>\n",
       "      <td>1</td>\n",
       "    </tr>\n",
       "    <tr>\n",
       "      <th>4100</th>\n",
       "      <td>Drivers License</td>\n",
       "      <td>Olivia Rodrigo</td>\n",
       "      <td>2021/1/23</td>\n",
       "      <td>1</td>\n",
       "      <td>1</td>\n",
       "      <td>1</td>\n",
       "    </tr>\n",
       "    <tr>\n",
       "      <th>2500</th>\n",
       "      <td>Save Your Tears</td>\n",
       "      <td>The Weeknd &amp; Ariana Grande</td>\n",
       "      <td>2021/5/15</td>\n",
       "      <td>1</td>\n",
       "      <td>21</td>\n",
       "      <td>1</td>\n",
       "    </tr>\n",
       "    <tr>\n",
       "      <th>1200</th>\n",
       "      <td>Stay</td>\n",
       "      <td>The Kid LAROI &amp; Justin Bieber</td>\n",
       "      <td>2021/8/14</td>\n",
       "      <td>1</td>\n",
       "      <td>4</td>\n",
       "      <td>1</td>\n",
       "    </tr>\n",
       "    <tr>\n",
       "      <th>3300</th>\n",
       "      <td>What's Next</td>\n",
       "      <td>Drake</td>\n",
       "      <td>2021/3/20</td>\n",
       "      <td>1</td>\n",
       "      <td>1</td>\n",
       "      <td>1</td>\n",
       "    </tr>\n",
       "    <tr>\n",
       "      <th>2000</th>\n",
       "      <td>Butter</td>\n",
       "      <td>BTS</td>\n",
       "      <td>2021/6/19</td>\n",
       "      <td>1</td>\n",
       "      <td>3</td>\n",
       "      <td>1</td>\n",
       "    </tr>\n",
       "  </tbody>\n",
       "</table>\n",
       "</div>"
      ],
      "text/plain": [
       "                     song                         artist       date  rank  \\\n",
       "0              Easy On Me                          Adele  2021/11/6     1   \n",
       "3500      Drivers License                 Olivia Rodrigo   2021/3/6     1   \n",
       "2800              Rapstar                         Polo G  2021/4/24     1   \n",
       "1500  Permission To Dance                            BTS  2021/7/24     1   \n",
       "1000                 Stay  The Kid LAROI & Justin Bieber  2021/8/28     1   \n",
       "4100      Drivers License                 Olivia Rodrigo  2021/1/23     1   \n",
       "2500      Save Your Tears     The Weeknd & Ariana Grande  2021/5/15     1   \n",
       "1200                 Stay  The Kid LAROI & Justin Bieber  2021/8/14     1   \n",
       "3300          What's Next                          Drake  2021/3/20     1   \n",
       "2000               Butter                            BTS  2021/6/19     1   \n",
       "\n",
       "      weeks_on_charts  peak_rank  \n",
       "0                   3          1  \n",
       "3500                7          1  \n",
       "2800                1          1  \n",
       "1500                1          1  \n",
       "1000                6          1  \n",
       "4100                1          1  \n",
       "2500               21          1  \n",
       "1200                4          1  \n",
       "3300                1          1  \n",
       "2000                3          1  "
      ]
     },
     "execution_count": 115,
     "metadata": {},
     "output_type": "execute_result"
    }
   ],
   "source": [
    "billboard_rank_sorted.head(10)"
   ]
  },
  {
   "cell_type": "code",
   "execution_count": 116,
   "id": "5e61828f-c573-4857-8544-cb3c8b61b28f",
   "metadata": {},
   "outputs": [
    {
     "data": {
      "text/html": [
       "<div>\n",
       "<style scoped>\n",
       "    .dataframe tbody tr th:only-of-type {\n",
       "        vertical-align: middle;\n",
       "    }\n",
       "\n",
       "    .dataframe tbody tr th {\n",
       "        vertical-align: top;\n",
       "    }\n",
       "\n",
       "    .dataframe thead th {\n",
       "        text-align: right;\n",
       "    }\n",
       "</style>\n",
       "<table border=\"1\" class=\"dataframe\">\n",
       "  <thead>\n",
       "    <tr style=\"text-align: right;\">\n",
       "      <th></th>\n",
       "      <th>song</th>\n",
       "      <th>artist</th>\n",
       "      <th>date</th>\n",
       "      <th>rank</th>\n",
       "      <th>weeks_on_charts</th>\n",
       "      <th>peak_rank</th>\n",
       "      <th>streams</th>\n",
       "    </tr>\n",
       "  </thead>\n",
       "  <tbody>\n",
       "    <tr>\n",
       "      <th>0</th>\n",
       "      <td>STAY (with Justin Bieber)</td>\n",
       "      <td>The Kid LAROI, Justin Bieber</td>\n",
       "      <td>2021/8/26</td>\n",
       "      <td>1</td>\n",
       "      <td>7</td>\n",
       "      <td>1</td>\n",
       "      <td>13698566</td>\n",
       "    </tr>\n",
       "    <tr>\n",
       "      <th>3900</th>\n",
       "      <td>good 4 u</td>\n",
       "      <td>Olivia Rodrigo</td>\n",
       "      <td>2021/6/3</td>\n",
       "      <td>1</td>\n",
       "      <td>3</td>\n",
       "      <td>1</td>\n",
       "      <td>24777068</td>\n",
       "    </tr>\n",
       "    <tr>\n",
       "      <th>1100</th>\n",
       "      <td>Good Days</td>\n",
       "      <td>SZA</td>\n",
       "      <td>2021/1/7</td>\n",
       "      <td>1</td>\n",
       "      <td>2</td>\n",
       "      <td>1</td>\n",
       "      <td>6323585</td>\n",
       "    </tr>\n",
       "    <tr>\n",
       "      <th>4000</th>\n",
       "      <td>good 4 u</td>\n",
       "      <td>Olivia Rodrigo</td>\n",
       "      <td>2021/6/17</td>\n",
       "      <td>1</td>\n",
       "      <td>5</td>\n",
       "      <td>1</td>\n",
       "      <td>17136875</td>\n",
       "    </tr>\n",
       "    <tr>\n",
       "      <th>1000</th>\n",
       "      <td>RAPSTAR</td>\n",
       "      <td>Polo G</td>\n",
       "      <td>2021/4/22</td>\n",
       "      <td>1</td>\n",
       "      <td>2</td>\n",
       "      <td>1</td>\n",
       "      <td>14135559</td>\n",
       "    </tr>\n",
       "    <tr>\n",
       "      <th>4100</th>\n",
       "      <td>STAY (with Justin Bieber)</td>\n",
       "      <td>The Kid LAROI, Justin Bieber</td>\n",
       "      <td>2021/8/12</td>\n",
       "      <td>1</td>\n",
       "      <td>5</td>\n",
       "      <td>1</td>\n",
       "      <td>14059933</td>\n",
       "    </tr>\n",
       "    <tr>\n",
       "      <th>4200</th>\n",
       "      <td>What’s Next</td>\n",
       "      <td>Drake</td>\n",
       "      <td>2021/3/18</td>\n",
       "      <td>1</td>\n",
       "      <td>2</td>\n",
       "      <td>1</td>\n",
       "      <td>7904871</td>\n",
       "    </tr>\n",
       "    <tr>\n",
       "      <th>900</th>\n",
       "      <td>MONTERO (Call Me By Your Name)</td>\n",
       "      <td>Lil Nas X</td>\n",
       "      <td>2021/4/8</td>\n",
       "      <td>1</td>\n",
       "      <td>2</td>\n",
       "      <td>1</td>\n",
       "      <td>14538057</td>\n",
       "    </tr>\n",
       "    <tr>\n",
       "      <th>4300</th>\n",
       "      <td>All Too Well (10 Minute Version) (Taylor's Ver...</td>\n",
       "      <td>Taylor Swift</td>\n",
       "      <td>2021/11/18</td>\n",
       "      <td>1</td>\n",
       "      <td>1</td>\n",
       "      <td>1</td>\n",
       "      <td>18105602</td>\n",
       "    </tr>\n",
       "    <tr>\n",
       "      <th>800</th>\n",
       "      <td>good 4 u</td>\n",
       "      <td>Olivia Rodrigo</td>\n",
       "      <td>2021/6/24</td>\n",
       "      <td>1</td>\n",
       "      <td>6</td>\n",
       "      <td>1</td>\n",
       "      <td>15040107</td>\n",
       "    </tr>\n",
       "  </tbody>\n",
       "</table>\n",
       "</div>"
      ],
      "text/plain": [
       "                                                   song  \\\n",
       "0                             STAY (with Justin Bieber)   \n",
       "3900                                           good 4 u   \n",
       "1100                                          Good Days   \n",
       "4000                                           good 4 u   \n",
       "1000                                            RAPSTAR   \n",
       "4100                          STAY (with Justin Bieber)   \n",
       "4200                                        What’s Next   \n",
       "900                      MONTERO (Call Me By Your Name)   \n",
       "4300  All Too Well (10 Minute Version) (Taylor's Ver...   \n",
       "800                                            good 4 u   \n",
       "\n",
       "                            artist        date  rank  weeks_on_charts  \\\n",
       "0     The Kid LAROI, Justin Bieber   2021/8/26     1                7   \n",
       "3900                Olivia Rodrigo    2021/6/3     1                3   \n",
       "1100                           SZA    2021/1/7     1                2   \n",
       "4000                Olivia Rodrigo   2021/6/17     1                5   \n",
       "1000                        Polo G   2021/4/22     1                2   \n",
       "4100  The Kid LAROI, Justin Bieber   2021/8/12     1                5   \n",
       "4200                         Drake   2021/3/18     1                2   \n",
       "900                      Lil Nas X    2021/4/8     1                2   \n",
       "4300                  Taylor Swift  2021/11/18     1                1   \n",
       "800                 Olivia Rodrigo   2021/6/24     1                6   \n",
       "\n",
       "      peak_rank   streams  \n",
       "0             1  13698566  \n",
       "3900          1  24777068  \n",
       "1100          1   6323585  \n",
       "4000          1  17136875  \n",
       "1000          1  14135559  \n",
       "4100          1  14059933  \n",
       "4200          1   7904871  \n",
       "900           1  14538057  \n",
       "4300          1  18105602  \n",
       "800           1  15040107  "
      ]
     },
     "execution_count": 116,
     "metadata": {},
     "output_type": "execute_result"
    }
   ],
   "source": [
    "spotify_rank_sorted.head(10)"
   ]
  },
  {
   "cell_type": "markdown",
   "id": "05ee682a-9b21-45d2-989a-ad96195d01e3",
   "metadata": {},
   "source": [
    "As you can see, some of the songs are repeated because they have been number one for more than one week. Let's create a dataframe that only contains the number one songs. "
   ]
  },
  {
   "cell_type": "code",
   "execution_count": 117,
   "id": "9fbd0636-39b4-4305-b380-9e6f4d445b1f",
   "metadata": {},
   "outputs": [],
   "source": [
    "number1_spotify = spotify_rank_sorted[spotify_rank_sorted['rank'] == 1]\n",
    "number1_billboard = billboard_rank_sorted[billboard_rank_sorted['rank'] == 1]"
   ]
  },
  {
   "cell_type": "code",
   "execution_count": 118,
   "id": "87cb763a-923c-4c62-8418-64f92f054ac2",
   "metadata": {},
   "outputs": [
    {
     "data": {
      "text/html": [
       "<div>\n",
       "<style scoped>\n",
       "    .dataframe tbody tr th:only-of-type {\n",
       "        vertical-align: middle;\n",
       "    }\n",
       "\n",
       "    .dataframe tbody tr th {\n",
       "        vertical-align: top;\n",
       "    }\n",
       "\n",
       "    .dataframe thead th {\n",
       "        text-align: right;\n",
       "    }\n",
       "</style>\n",
       "<table border=\"1\" class=\"dataframe\">\n",
       "  <thead>\n",
       "    <tr style=\"text-align: right;\">\n",
       "      <th></th>\n",
       "      <th>song</th>\n",
       "      <th>artist</th>\n",
       "      <th>date</th>\n",
       "      <th>rank</th>\n",
       "      <th>weeks_on_charts</th>\n",
       "      <th>peak_rank</th>\n",
       "      <th>streams</th>\n",
       "    </tr>\n",
       "  </thead>\n",
       "  <tbody>\n",
       "    <tr>\n",
       "      <th>0</th>\n",
       "      <td>STAY (with Justin Bieber)</td>\n",
       "      <td>The Kid LAROI, Justin Bieber</td>\n",
       "      <td>2021/8/26</td>\n",
       "      <td>1</td>\n",
       "      <td>7</td>\n",
       "      <td>1</td>\n",
       "      <td>13698566</td>\n",
       "    </tr>\n",
       "    <tr>\n",
       "      <th>3900</th>\n",
       "      <td>good 4 u</td>\n",
       "      <td>Olivia Rodrigo</td>\n",
       "      <td>2021/6/3</td>\n",
       "      <td>1</td>\n",
       "      <td>3</td>\n",
       "      <td>1</td>\n",
       "      <td>24777068</td>\n",
       "    </tr>\n",
       "    <tr>\n",
       "      <th>1100</th>\n",
       "      <td>Good Days</td>\n",
       "      <td>SZA</td>\n",
       "      <td>2021/1/7</td>\n",
       "      <td>1</td>\n",
       "      <td>2</td>\n",
       "      <td>1</td>\n",
       "      <td>6323585</td>\n",
       "    </tr>\n",
       "    <tr>\n",
       "      <th>4000</th>\n",
       "      <td>good 4 u</td>\n",
       "      <td>Olivia Rodrigo</td>\n",
       "      <td>2021/6/17</td>\n",
       "      <td>1</td>\n",
       "      <td>5</td>\n",
       "      <td>1</td>\n",
       "      <td>17136875</td>\n",
       "    </tr>\n",
       "    <tr>\n",
       "      <th>1000</th>\n",
       "      <td>RAPSTAR</td>\n",
       "      <td>Polo G</td>\n",
       "      <td>2021/4/22</td>\n",
       "      <td>1</td>\n",
       "      <td>2</td>\n",
       "      <td>1</td>\n",
       "      <td>14135559</td>\n",
       "    </tr>\n",
       "  </tbody>\n",
       "</table>\n",
       "</div>"
      ],
      "text/plain": [
       "                           song                        artist       date  \\\n",
       "0     STAY (with Justin Bieber)  The Kid LAROI, Justin Bieber  2021/8/26   \n",
       "3900                   good 4 u                Olivia Rodrigo   2021/6/3   \n",
       "1100                  Good Days                           SZA   2021/1/7   \n",
       "4000                   good 4 u                Olivia Rodrigo  2021/6/17   \n",
       "1000                    RAPSTAR                        Polo G  2021/4/22   \n",
       "\n",
       "      rank  weeks_on_charts  peak_rank   streams  \n",
       "0        1                7          1  13698566  \n",
       "3900     1                3          1  24777068  \n",
       "1100     1                2          1   6323585  \n",
       "4000     1                5          1  17136875  \n",
       "1000     1                2          1  14135559  "
      ]
     },
     "execution_count": 118,
     "metadata": {},
     "output_type": "execute_result"
    }
   ],
   "source": [
    "number1_spotify.head()"
   ]
  },
  {
   "cell_type": "code",
   "execution_count": 119,
   "id": "be16ed7e-8034-4276-9907-38d9b2ff2408",
   "metadata": {},
   "outputs": [
    {
     "data": {
      "text/html": [
       "<div>\n",
       "<style scoped>\n",
       "    .dataframe tbody tr th:only-of-type {\n",
       "        vertical-align: middle;\n",
       "    }\n",
       "\n",
       "    .dataframe tbody tr th {\n",
       "        vertical-align: top;\n",
       "    }\n",
       "\n",
       "    .dataframe thead th {\n",
       "        text-align: right;\n",
       "    }\n",
       "</style>\n",
       "<table border=\"1\" class=\"dataframe\">\n",
       "  <thead>\n",
       "    <tr style=\"text-align: right;\">\n",
       "      <th></th>\n",
       "      <th>song</th>\n",
       "      <th>artist</th>\n",
       "      <th>date</th>\n",
       "      <th>rank</th>\n",
       "      <th>weeks_on_charts</th>\n",
       "      <th>peak_rank</th>\n",
       "    </tr>\n",
       "  </thead>\n",
       "  <tbody>\n",
       "    <tr>\n",
       "      <th>0</th>\n",
       "      <td>Easy On Me</td>\n",
       "      <td>Adele</td>\n",
       "      <td>2021/11/6</td>\n",
       "      <td>1</td>\n",
       "      <td>3</td>\n",
       "      <td>1</td>\n",
       "    </tr>\n",
       "    <tr>\n",
       "      <th>3500</th>\n",
       "      <td>Drivers License</td>\n",
       "      <td>Olivia Rodrigo</td>\n",
       "      <td>2021/3/6</td>\n",
       "      <td>1</td>\n",
       "      <td>7</td>\n",
       "      <td>1</td>\n",
       "    </tr>\n",
       "    <tr>\n",
       "      <th>2800</th>\n",
       "      <td>Rapstar</td>\n",
       "      <td>Polo G</td>\n",
       "      <td>2021/4/24</td>\n",
       "      <td>1</td>\n",
       "      <td>1</td>\n",
       "      <td>1</td>\n",
       "    </tr>\n",
       "    <tr>\n",
       "      <th>1500</th>\n",
       "      <td>Permission To Dance</td>\n",
       "      <td>BTS</td>\n",
       "      <td>2021/7/24</td>\n",
       "      <td>1</td>\n",
       "      <td>1</td>\n",
       "      <td>1</td>\n",
       "    </tr>\n",
       "    <tr>\n",
       "      <th>1000</th>\n",
       "      <td>Stay</td>\n",
       "      <td>The Kid LAROI &amp; Justin Bieber</td>\n",
       "      <td>2021/8/28</td>\n",
       "      <td>1</td>\n",
       "      <td>6</td>\n",
       "      <td>1</td>\n",
       "    </tr>\n",
       "  </tbody>\n",
       "</table>\n",
       "</div>"
      ],
      "text/plain": [
       "                     song                         artist       date  rank  \\\n",
       "0              Easy On Me                          Adele  2021/11/6     1   \n",
       "3500      Drivers License                 Olivia Rodrigo   2021/3/6     1   \n",
       "2800              Rapstar                         Polo G  2021/4/24     1   \n",
       "1500  Permission To Dance                            BTS  2021/7/24     1   \n",
       "1000                 Stay  The Kid LAROI & Justin Bieber  2021/8/28     1   \n",
       "\n",
       "      weeks_on_charts  peak_rank  \n",
       "0                   3          1  \n",
       "3500                7          1  \n",
       "2800                1          1  \n",
       "1500                1          1  \n",
       "1000                6          1  "
      ]
     },
     "execution_count": 119,
     "metadata": {},
     "output_type": "execute_result"
    }
   ],
   "source": [
    "number1_billboard.head()"
   ]
  },
  {
   "cell_type": "markdown",
   "id": "81b8cef5-6451-4712-867d-bd9e329529a8",
   "metadata": {},
   "source": [
    "Now, let's sort by the number of weeks that songs have been on the chart to see this measure of popularity."
   ]
  },
  {
   "cell_type": "code",
   "execution_count": 120,
   "id": "3a724f3c-459f-4a4c-b265-b6d51e8e36fd",
   "metadata": {},
   "outputs": [],
   "source": [
    "billboard_weeks_sorted = billboard_df.sort_values(by=['weeks_on_charts'], ascending = False)\n",
    "spotify_weeks_sorted = spotify_df.sort_values(by=['weeks_on_charts'], ascending = False)"
   ]
  },
  {
   "cell_type": "code",
   "execution_count": 121,
   "id": "b2e3d6ea-7c83-4cf7-8dd7-76bb51eb1824",
   "metadata": {},
   "outputs": [
    {
     "data": {
      "text/html": [
       "<div>\n",
       "<style scoped>\n",
       "    .dataframe tbody tr th:only-of-type {\n",
       "        vertical-align: middle;\n",
       "    }\n",
       "\n",
       "    .dataframe tbody tr th {\n",
       "        vertical-align: top;\n",
       "    }\n",
       "\n",
       "    .dataframe thead th {\n",
       "        text-align: right;\n",
       "    }\n",
       "</style>\n",
       "<table border=\"1\" class=\"dataframe\">\n",
       "  <thead>\n",
       "    <tr style=\"text-align: right;\">\n",
       "      <th></th>\n",
       "      <th>song</th>\n",
       "      <th>artist</th>\n",
       "      <th>date</th>\n",
       "      <th>rank</th>\n",
       "      <th>weeks_on_charts</th>\n",
       "      <th>peak_rank</th>\n",
       "    </tr>\n",
       "  </thead>\n",
       "  <tbody>\n",
       "    <tr>\n",
       "      <th>919</th>\n",
       "      <td>Blinding Lights</td>\n",
       "      <td>The Weeknd</td>\n",
       "      <td>2021/9/4</td>\n",
       "      <td>20</td>\n",
       "      <td>90</td>\n",
       "      <td>1</td>\n",
       "    </tr>\n",
       "    <tr>\n",
       "      <th>1020</th>\n",
       "      <td>Blinding Lights</td>\n",
       "      <td>The Weeknd</td>\n",
       "      <td>2021/8/28</td>\n",
       "      <td>21</td>\n",
       "      <td>89</td>\n",
       "      <td>1</td>\n",
       "    </tr>\n",
       "    <tr>\n",
       "      <th>1117</th>\n",
       "      <td>Blinding Lights</td>\n",
       "      <td>The Weeknd</td>\n",
       "      <td>2021/8/21</td>\n",
       "      <td>18</td>\n",
       "      <td>88</td>\n",
       "      <td>1</td>\n",
       "    </tr>\n",
       "    <tr>\n",
       "      <th>1215</th>\n",
       "      <td>Blinding Lights</td>\n",
       "      <td>The Weeknd</td>\n",
       "      <td>2021/8/14</td>\n",
       "      <td>16</td>\n",
       "      <td>87</td>\n",
       "      <td>1</td>\n",
       "    </tr>\n",
       "    <tr>\n",
       "      <th>1316</th>\n",
       "      <td>Blinding Lights</td>\n",
       "      <td>The Weeknd</td>\n",
       "      <td>2021/8/7</td>\n",
       "      <td>17</td>\n",
       "      <td>86</td>\n",
       "      <td>1</td>\n",
       "    </tr>\n",
       "  </tbody>\n",
       "</table>\n",
       "</div>"
      ],
      "text/plain": [
       "                 song      artist       date  rank  weeks_on_charts  peak_rank\n",
       "919   Blinding Lights  The Weeknd   2021/9/4    20               90          1\n",
       "1020  Blinding Lights  The Weeknd  2021/8/28    21               89          1\n",
       "1117  Blinding Lights  The Weeknd  2021/8/21    18               88          1\n",
       "1215  Blinding Lights  The Weeknd  2021/8/14    16               87          1\n",
       "1316  Blinding Lights  The Weeknd   2021/8/7    17               86          1"
      ]
     },
     "execution_count": 121,
     "metadata": {},
     "output_type": "execute_result"
    }
   ],
   "source": [
    "billboard_weeks_sorted.head()"
   ]
  },
  {
   "cell_type": "code",
   "execution_count": 122,
   "id": "12851b30-a4f2-4193-8745-358974f625a1",
   "metadata": {},
   "outputs": [
    {
     "data": {
      "text/html": [
       "<div>\n",
       "<style scoped>\n",
       "    .dataframe tbody tr th:only-of-type {\n",
       "        vertical-align: middle;\n",
       "    }\n",
       "\n",
       "    .dataframe tbody tr th {\n",
       "        vertical-align: top;\n",
       "    }\n",
       "\n",
       "    .dataframe thead th {\n",
       "        text-align: right;\n",
       "    }\n",
       "</style>\n",
       "<table border=\"1\" class=\"dataframe\">\n",
       "  <thead>\n",
       "    <tr style=\"text-align: right;\">\n",
       "      <th></th>\n",
       "      <th>song</th>\n",
       "      <th>artist</th>\n",
       "      <th>date</th>\n",
       "      <th>rank</th>\n",
       "      <th>weeks_on_charts</th>\n",
       "      <th>peak_rank</th>\n",
       "      <th>streams</th>\n",
       "    </tr>\n",
       "  </thead>\n",
       "  <tbody>\n",
       "    <tr>\n",
       "      <th>286</th>\n",
       "      <td>goosebumps</td>\n",
       "      <td>Travis Scott</td>\n",
       "      <td>2021/11/11</td>\n",
       "      <td>87</td>\n",
       "      <td>254</td>\n",
       "      <td>8</td>\n",
       "      <td>1980463</td>\n",
       "    </tr>\n",
       "    <tr>\n",
       "      <th>1888</th>\n",
       "      <td>goosebumps</td>\n",
       "      <td>Travis Scott</td>\n",
       "      <td>2021/5/13</td>\n",
       "      <td>89</td>\n",
       "      <td>228</td>\n",
       "      <td>8</td>\n",
       "      <td>2009272</td>\n",
       "    </tr>\n",
       "    <tr>\n",
       "      <th>2098</th>\n",
       "      <td>goosebumps</td>\n",
       "      <td>Travis Scott</td>\n",
       "      <td>2021/5/6</td>\n",
       "      <td>99</td>\n",
       "      <td>227</td>\n",
       "      <td>8</td>\n",
       "      <td>1941338</td>\n",
       "    </tr>\n",
       "    <tr>\n",
       "      <th>5192</th>\n",
       "      <td>goosebumps</td>\n",
       "      <td>Travis Scott</td>\n",
       "      <td>2021/4/29</td>\n",
       "      <td>93</td>\n",
       "      <td>226</td>\n",
       "      <td>8</td>\n",
       "      <td>1938945</td>\n",
       "    </tr>\n",
       "    <tr>\n",
       "      <th>1094</th>\n",
       "      <td>goosebumps</td>\n",
       "      <td>Travis Scott</td>\n",
       "      <td>2021/4/22</td>\n",
       "      <td>95</td>\n",
       "      <td>225</td>\n",
       "      <td>8</td>\n",
       "      <td>1956547</td>\n",
       "    </tr>\n",
       "  </tbody>\n",
       "</table>\n",
       "</div>"
      ],
      "text/plain": [
       "            song        artist        date  rank  weeks_on_charts  peak_rank  \\\n",
       "286   goosebumps  Travis Scott  2021/11/11    87              254          8   \n",
       "1888  goosebumps  Travis Scott   2021/5/13    89              228          8   \n",
       "2098  goosebumps  Travis Scott    2021/5/6    99              227          8   \n",
       "5192  goosebumps  Travis Scott   2021/4/29    93              226          8   \n",
       "1094  goosebumps  Travis Scott   2021/4/22    95              225          8   \n",
       "\n",
       "      streams  \n",
       "286   1980463  \n",
       "1888  2009272  \n",
       "2098  1941338  \n",
       "5192  1938945  \n",
       "1094  1956547  "
      ]
     },
     "execution_count": 122,
     "metadata": {},
     "output_type": "execute_result"
    }
   ],
   "source": [
    "spotify_weeks_sorted.head()"
   ]
  },
  {
   "cell_type": "markdown",
   "id": "fba374a7-4f03-4482-bf91-6bf21f8a8bc1",
   "metadata": {},
   "source": [
    "As you can see, there are multiple data points for one song. In order to clean this up, we can take the first value that contains the highest value for weeks on chart. "
   ]
  },
  {
   "cell_type": "code",
   "execution_count": 123,
   "id": "785cb4b9-409c-4b32-9a71-b9d29bf3a2c6",
   "metadata": {},
   "outputs": [],
   "source": [
    "billboard_weeks_sorted = billboard_weeks_sorted.drop_duplicates(subset='song')\n",
    "spotify_weeks_sorted = spotify_weeks_sorted.drop_duplicates(subset = 'song')"
   ]
  },
  {
   "cell_type": "code",
   "execution_count": 124,
   "id": "a905a368-ec14-4d44-af89-ceb4b99337e2",
   "metadata": {},
   "outputs": [
    {
     "data": {
      "text/html": [
       "<div>\n",
       "<style scoped>\n",
       "    .dataframe tbody tr th:only-of-type {\n",
       "        vertical-align: middle;\n",
       "    }\n",
       "\n",
       "    .dataframe tbody tr th {\n",
       "        vertical-align: top;\n",
       "    }\n",
       "\n",
       "    .dataframe thead th {\n",
       "        text-align: right;\n",
       "    }\n",
       "</style>\n",
       "<table border=\"1\" class=\"dataframe\">\n",
       "  <thead>\n",
       "    <tr style=\"text-align: right;\">\n",
       "      <th></th>\n",
       "      <th>song</th>\n",
       "      <th>artist</th>\n",
       "      <th>date</th>\n",
       "      <th>rank</th>\n",
       "      <th>weeks_on_charts</th>\n",
       "      <th>peak_rank</th>\n",
       "    </tr>\n",
       "  </thead>\n",
       "  <tbody>\n",
       "    <tr>\n",
       "      <th>919</th>\n",
       "      <td>Blinding Lights</td>\n",
       "      <td>The Weeknd</td>\n",
       "      <td>2021/9/4</td>\n",
       "      <td>20</td>\n",
       "      <td>90</td>\n",
       "      <td>1</td>\n",
       "    </tr>\n",
       "    <tr>\n",
       "      <th>3423</th>\n",
       "      <td>I Hope</td>\n",
       "      <td>Gabby Barrett Featuring Charlie Puth</td>\n",
       "      <td>2021/3/13</td>\n",
       "      <td>24</td>\n",
       "      <td>62</td>\n",
       "      <td>3</td>\n",
       "    </tr>\n",
       "    <tr>\n",
       "      <th>9</th>\n",
       "      <td>Levitating</td>\n",
       "      <td>Dua Lipa</td>\n",
       "      <td>2021/11/6</td>\n",
       "      <td>10</td>\n",
       "      <td>56</td>\n",
       "      <td>2</td>\n",
       "    </tr>\n",
       "    <tr>\n",
       "      <th>1141</th>\n",
       "      <td>My Ex's Best Friend</td>\n",
       "      <td>Machine Gun Kelly X blackbear</td>\n",
       "      <td>2021/8/21</td>\n",
       "      <td>42</td>\n",
       "      <td>52</td>\n",
       "      <td>20</td>\n",
       "    </tr>\n",
       "    <tr>\n",
       "      <th>3632</th>\n",
       "      <td>Before You Go</td>\n",
       "      <td>Lewis Capaldi</td>\n",
       "      <td>2021/2/27</td>\n",
       "      <td>33</td>\n",
       "      <td>52</td>\n",
       "      <td>9</td>\n",
       "    </tr>\n",
       "    <tr>\n",
       "      <th>2527</th>\n",
       "      <td>Go Crazy</td>\n",
       "      <td>Chris Brown &amp; Young Thug</td>\n",
       "      <td>2021/5/15</td>\n",
       "      <td>28</td>\n",
       "      <td>52</td>\n",
       "      <td>3</td>\n",
       "    </tr>\n",
       "    <tr>\n",
       "      <th>1247</th>\n",
       "      <td>Mood</td>\n",
       "      <td>24kGoldn Featuring iann dior</td>\n",
       "      <td>2021/8/14</td>\n",
       "      <td>48</td>\n",
       "      <td>52</td>\n",
       "      <td>1</td>\n",
       "    </tr>\n",
       "    <tr>\n",
       "      <th>3848</th>\n",
       "      <td>Whats Poppin</td>\n",
       "      <td>Jack Harlow Featuring DaBaby, Tory Lanez &amp; Lil...</td>\n",
       "      <td>2021/2/13</td>\n",
       "      <td>49</td>\n",
       "      <td>51</td>\n",
       "      <td>2</td>\n",
       "    </tr>\n",
       "    <tr>\n",
       "      <th>16</th>\n",
       "      <td>Save Your Tears</td>\n",
       "      <td>The Weeknd &amp; Ariana Grande</td>\n",
       "      <td>2021/11/6</td>\n",
       "      <td>17</td>\n",
       "      <td>46</td>\n",
       "      <td>1</td>\n",
       "    </tr>\n",
       "    <tr>\n",
       "      <th>840</th>\n",
       "      <td>Forever After All</td>\n",
       "      <td>Luke Combs</td>\n",
       "      <td>2021/9/11</td>\n",
       "      <td>41</td>\n",
       "      <td>45</td>\n",
       "      <td>2</td>\n",
       "    </tr>\n",
       "  </tbody>\n",
       "</table>\n",
       "</div>"
      ],
      "text/plain": [
       "                     song                                             artist  \\\n",
       "919       Blinding Lights                                         The Weeknd   \n",
       "3423               I Hope               Gabby Barrett Featuring Charlie Puth   \n",
       "9              Levitating                                           Dua Lipa   \n",
       "1141  My Ex's Best Friend                      Machine Gun Kelly X blackbear   \n",
       "3632        Before You Go                                      Lewis Capaldi   \n",
       "2527             Go Crazy                           Chris Brown & Young Thug   \n",
       "1247                 Mood                       24kGoldn Featuring iann dior   \n",
       "3848         Whats Poppin  Jack Harlow Featuring DaBaby, Tory Lanez & Lil...   \n",
       "16        Save Your Tears                         The Weeknd & Ariana Grande   \n",
       "840     Forever After All                                         Luke Combs   \n",
       "\n",
       "           date  rank  weeks_on_charts  peak_rank  \n",
       "919    2021/9/4    20               90          1  \n",
       "3423  2021/3/13    24               62          3  \n",
       "9     2021/11/6    10               56          2  \n",
       "1141  2021/8/21    42               52         20  \n",
       "3632  2021/2/27    33               52          9  \n",
       "2527  2021/5/15    28               52          3  \n",
       "1247  2021/8/14    48               52          1  \n",
       "3848  2021/2/13    49               51          2  \n",
       "16    2021/11/6    17               46          1  \n",
       "840   2021/9/11    41               45          2  "
      ]
     },
     "execution_count": 124,
     "metadata": {},
     "output_type": "execute_result"
    }
   ],
   "source": [
    "billboard_weeks_sorted.head(10)"
   ]
  },
  {
   "cell_type": "code",
   "execution_count": 125,
   "id": "df27280a-009c-4396-8a41-172a67e1812b",
   "metadata": {},
   "outputs": [
    {
     "data": {
      "text/html": [
       "<div>\n",
       "<style scoped>\n",
       "    .dataframe tbody tr th:only-of-type {\n",
       "        vertical-align: middle;\n",
       "    }\n",
       "\n",
       "    .dataframe tbody tr th {\n",
       "        vertical-align: top;\n",
       "    }\n",
       "\n",
       "    .dataframe thead th {\n",
       "        text-align: right;\n",
       "    }\n",
       "</style>\n",
       "<table border=\"1\" class=\"dataframe\">\n",
       "  <thead>\n",
       "    <tr style=\"text-align: right;\">\n",
       "      <th></th>\n",
       "      <th>song</th>\n",
       "      <th>artist</th>\n",
       "      <th>date</th>\n",
       "      <th>rank</th>\n",
       "      <th>weeks_on_charts</th>\n",
       "      <th>peak_rank</th>\n",
       "      <th>streams</th>\n",
       "    </tr>\n",
       "  </thead>\n",
       "  <tbody>\n",
       "    <tr>\n",
       "      <th>286</th>\n",
       "      <td>goosebumps</td>\n",
       "      <td>Travis Scott</td>\n",
       "      <td>2021/11/11</td>\n",
       "      <td>87</td>\n",
       "      <td>254</td>\n",
       "      <td>8</td>\n",
       "      <td>1980463</td>\n",
       "    </tr>\n",
       "    <tr>\n",
       "      <th>2375</th>\n",
       "      <td>No Role Modelz</td>\n",
       "      <td>J. Cole</td>\n",
       "      <td>2021/12/30</td>\n",
       "      <td>76</td>\n",
       "      <td>203</td>\n",
       "      <td>43</td>\n",
       "      <td>2499404</td>\n",
       "    </tr>\n",
       "    <tr>\n",
       "      <th>2396</th>\n",
       "      <td>Lucid Dreams</td>\n",
       "      <td>Juice WRLD</td>\n",
       "      <td>2021/12/30</td>\n",
       "      <td>97</td>\n",
       "      <td>191</td>\n",
       "      <td>1</td>\n",
       "      <td>2215742</td>\n",
       "    </tr>\n",
       "    <tr>\n",
       "      <th>4286</th>\n",
       "      <td>Jocelyn Flores</td>\n",
       "      <td>XXXTENTACION</td>\n",
       "      <td>2021/3/18</td>\n",
       "      <td>87</td>\n",
       "      <td>186</td>\n",
       "      <td>3</td>\n",
       "      <td>2006269</td>\n",
       "    </tr>\n",
       "    <tr>\n",
       "      <th>285</th>\n",
       "      <td>All Girls Are The Same</td>\n",
       "      <td>Juice WRLD</td>\n",
       "      <td>2021/11/11</td>\n",
       "      <td>86</td>\n",
       "      <td>185</td>\n",
       "      <td>13</td>\n",
       "      <td>1984932</td>\n",
       "    </tr>\n",
       "    <tr>\n",
       "      <th>2386</th>\n",
       "      <td>Sunflower - Spider-Man: Into the Spider-Verse</td>\n",
       "      <td>Post Malone, Swae Lee</td>\n",
       "      <td>2021/12/30</td>\n",
       "      <td>87</td>\n",
       "      <td>167</td>\n",
       "      <td>1</td>\n",
       "      <td>2323566</td>\n",
       "    </tr>\n",
       "    <tr>\n",
       "      <th>4295</th>\n",
       "      <td>SLOW DANCING IN THE DARK</td>\n",
       "      <td>Joji</td>\n",
       "      <td>2021/3/18</td>\n",
       "      <td>96</td>\n",
       "      <td>130</td>\n",
       "      <td>29</td>\n",
       "      <td>1944030</td>\n",
       "    </tr>\n",
       "    <tr>\n",
       "      <th>4899</th>\n",
       "      <td>Robbery</td>\n",
       "      <td>Juice WRLD</td>\n",
       "      <td>2021/6/10</td>\n",
       "      <td>100</td>\n",
       "      <td>121</td>\n",
       "      <td>3</td>\n",
       "      <td>1923120</td>\n",
       "    </tr>\n",
       "    <tr>\n",
       "      <th>3577</th>\n",
       "      <td>MIDDLE CHILD</td>\n",
       "      <td>J. Cole</td>\n",
       "      <td>2021/5/20</td>\n",
       "      <td>78</td>\n",
       "      <td>120</td>\n",
       "      <td>1</td>\n",
       "      <td>2261419</td>\n",
       "    </tr>\n",
       "    <tr>\n",
       "      <th>280</th>\n",
       "      <td>Circles</td>\n",
       "      <td>Post Malone</td>\n",
       "      <td>2021/11/11</td>\n",
       "      <td>81</td>\n",
       "      <td>115</td>\n",
       "      <td>1</td>\n",
       "      <td>2072990</td>\n",
       "    </tr>\n",
       "  </tbody>\n",
       "</table>\n",
       "</div>"
      ],
      "text/plain": [
       "                                               song                 artist  \\\n",
       "286                                      goosebumps           Travis Scott   \n",
       "2375                                 No Role Modelz                J. Cole   \n",
       "2396                                   Lucid Dreams             Juice WRLD   \n",
       "4286                                 Jocelyn Flores           XXXTENTACION   \n",
       "285                          All Girls Are The Same             Juice WRLD   \n",
       "2386  Sunflower - Spider-Man: Into the Spider-Verse  Post Malone, Swae Lee   \n",
       "4295                       SLOW DANCING IN THE DARK                   Joji   \n",
       "4899                                        Robbery             Juice WRLD   \n",
       "3577                                   MIDDLE CHILD                J. Cole   \n",
       "280                                         Circles            Post Malone   \n",
       "\n",
       "            date  rank  weeks_on_charts  peak_rank  streams  \n",
       "286   2021/11/11    87              254          8  1980463  \n",
       "2375  2021/12/30    76              203         43  2499404  \n",
       "2396  2021/12/30    97              191          1  2215742  \n",
       "4286   2021/3/18    87              186          3  2006269  \n",
       "285   2021/11/11    86              185         13  1984932  \n",
       "2386  2021/12/30    87              167          1  2323566  \n",
       "4295   2021/3/18    96              130         29  1944030  \n",
       "4899   2021/6/10   100              121          3  1923120  \n",
       "3577   2021/5/20    78              120          1  2261419  \n",
       "280   2021/11/11    81              115          1  2072990  "
      ]
     },
     "execution_count": 125,
     "metadata": {},
     "output_type": "execute_result"
    }
   ],
   "source": [
    "spotify_weeks_sorted.head(10)"
   ]
  },
  {
   "cell_type": "markdown",
   "id": "2b8bbe66-8d09-41e0-a5a5-e7d59b5a092f",
   "metadata": {},
   "source": [
    "What similarities and differences do you notice between songs and the weeks on the chart between the two datasets at first glance?"
   ]
  },
  {
   "cell_type": "markdown",
   "id": "d3eaa3b9-dc73-4fc8-bfc4-478cd0be472d",
   "metadata": {},
   "source": [
    "### 3.2 Descriptive Statistics\n",
    "To get a more general overview of what exists in the data, we can also use the describe() function to explore our data. "
   ]
  },
  {
   "cell_type": "code",
   "execution_count": 126,
   "id": "7fa52361-478c-4f39-9bd3-4eaa20c41272",
   "metadata": {},
   "outputs": [
    {
     "data": {
      "text/html": [
       "<div>\n",
       "<style scoped>\n",
       "    .dataframe tbody tr th:only-of-type {\n",
       "        vertical-align: middle;\n",
       "    }\n",
       "\n",
       "    .dataframe tbody tr th {\n",
       "        vertical-align: top;\n",
       "    }\n",
       "\n",
       "    .dataframe thead th {\n",
       "        text-align: right;\n",
       "    }\n",
       "</style>\n",
       "<table border=\"1\" class=\"dataframe\">\n",
       "  <thead>\n",
       "    <tr style=\"text-align: right;\">\n",
       "      <th></th>\n",
       "      <th>rank</th>\n",
       "      <th>weeks_on_charts</th>\n",
       "      <th>peak_rank</th>\n",
       "      <th>streams</th>\n",
       "    </tr>\n",
       "  </thead>\n",
       "  <tbody>\n",
       "    <tr>\n",
       "      <th>count</th>\n",
       "      <td>770.000000</td>\n",
       "      <td>770.000000</td>\n",
       "      <td>770.000000</td>\n",
       "      <td>7.700000e+02</td>\n",
       "    </tr>\n",
       "    <tr>\n",
       "      <th>mean</th>\n",
       "      <td>71.383117</td>\n",
       "      <td>13.677922</td>\n",
       "      <td>37.374026</td>\n",
       "      <td>2.619487e+06</td>\n",
       "    </tr>\n",
       "    <tr>\n",
       "      <th>std</th>\n",
       "      <td>24.580749</td>\n",
       "      <td>24.905599</td>\n",
       "      <td>28.764690</td>\n",
       "      <td>9.176311e+05</td>\n",
       "    </tr>\n",
       "    <tr>\n",
       "      <th>min</th>\n",
       "      <td>1.000000</td>\n",
       "      <td>1.000000</td>\n",
       "      <td>1.000000</td>\n",
       "      <td>1.783609e+06</td>\n",
       "    </tr>\n",
       "    <tr>\n",
       "      <th>25%</th>\n",
       "      <td>55.000000</td>\n",
       "      <td>1.000000</td>\n",
       "      <td>12.000000</td>\n",
       "      <td>2.018215e+06</td>\n",
       "    </tr>\n",
       "    <tr>\n",
       "      <th>50%</th>\n",
       "      <td>79.000000</td>\n",
       "      <td>4.000000</td>\n",
       "      <td>32.000000</td>\n",
       "      <td>2.296956e+06</td>\n",
       "    </tr>\n",
       "    <tr>\n",
       "      <th>75%</th>\n",
       "      <td>92.000000</td>\n",
       "      <td>17.000000</td>\n",
       "      <td>59.000000</td>\n",
       "      <td>2.838542e+06</td>\n",
       "    </tr>\n",
       "    <tr>\n",
       "      <th>max</th>\n",
       "      <td>100.000000</td>\n",
       "      <td>254.000000</td>\n",
       "      <td>100.000000</td>\n",
       "      <td>8.608916e+06</td>\n",
       "    </tr>\n",
       "  </tbody>\n",
       "</table>\n",
       "</div>"
      ],
      "text/plain": [
       "             rank  weeks_on_charts   peak_rank       streams\n",
       "count  770.000000       770.000000  770.000000  7.700000e+02\n",
       "mean    71.383117        13.677922   37.374026  2.619487e+06\n",
       "std     24.580749        24.905599   28.764690  9.176311e+05\n",
       "min      1.000000         1.000000    1.000000  1.783609e+06\n",
       "25%     55.000000         1.000000   12.000000  2.018215e+06\n",
       "50%     79.000000         4.000000   32.000000  2.296956e+06\n",
       "75%     92.000000        17.000000   59.000000  2.838542e+06\n",
       "max    100.000000       254.000000  100.000000  8.608916e+06"
      ]
     },
     "execution_count": 126,
     "metadata": {},
     "output_type": "execute_result"
    }
   ],
   "source": [
    "spotify_weeks_sorted.describe()"
   ]
  },
  {
   "cell_type": "code",
   "execution_count": 127,
   "id": "958dd03a-2740-4c63-bebc-ec50d86a10a6",
   "metadata": {},
   "outputs": [
    {
     "data": {
      "text/html": [
       "<div>\n",
       "<style scoped>\n",
       "    .dataframe tbody tr th:only-of-type {\n",
       "        vertical-align: middle;\n",
       "    }\n",
       "\n",
       "    .dataframe tbody tr th {\n",
       "        vertical-align: top;\n",
       "    }\n",
       "\n",
       "    .dataframe thead th {\n",
       "        text-align: right;\n",
       "    }\n",
       "</style>\n",
       "<table border=\"1\" class=\"dataframe\">\n",
       "  <thead>\n",
       "    <tr style=\"text-align: right;\">\n",
       "      <th></th>\n",
       "      <th>rank</th>\n",
       "      <th>weeks_on_charts</th>\n",
       "      <th>peak_rank</th>\n",
       "    </tr>\n",
       "  </thead>\n",
       "  <tbody>\n",
       "    <tr>\n",
       "      <th>count</th>\n",
       "      <td>664.000000</td>\n",
       "      <td>664.000000</td>\n",
       "      <td>664.000000</td>\n",
       "    </tr>\n",
       "    <tr>\n",
       "      <th>mean</th>\n",
       "      <td>69.871988</td>\n",
       "      <td>8.980422</td>\n",
       "      <td>47.295181</td>\n",
       "    </tr>\n",
       "    <tr>\n",
       "      <th>std</th>\n",
       "      <td>24.926804</td>\n",
       "      <td>11.032158</td>\n",
       "      <td>29.736351</td>\n",
       "    </tr>\n",
       "    <tr>\n",
       "      <th>min</th>\n",
       "      <td>1.000000</td>\n",
       "      <td>1.000000</td>\n",
       "      <td>1.000000</td>\n",
       "    </tr>\n",
       "    <tr>\n",
       "      <th>25%</th>\n",
       "      <td>50.000000</td>\n",
       "      <td>1.000000</td>\n",
       "      <td>20.000000</td>\n",
       "    </tr>\n",
       "    <tr>\n",
       "      <th>50%</th>\n",
       "      <td>77.000000</td>\n",
       "      <td>4.000000</td>\n",
       "      <td>48.000000</td>\n",
       "    </tr>\n",
       "    <tr>\n",
       "      <th>75%</th>\n",
       "      <td>91.000000</td>\n",
       "      <td>15.000000</td>\n",
       "      <td>71.250000</td>\n",
       "    </tr>\n",
       "    <tr>\n",
       "      <th>max</th>\n",
       "      <td>100.000000</td>\n",
       "      <td>90.000000</td>\n",
       "      <td>100.000000</td>\n",
       "    </tr>\n",
       "  </tbody>\n",
       "</table>\n",
       "</div>"
      ],
      "text/plain": [
       "             rank  weeks_on_charts   peak_rank\n",
       "count  664.000000       664.000000  664.000000\n",
       "mean    69.871988         8.980422   47.295181\n",
       "std     24.926804        11.032158   29.736351\n",
       "min      1.000000         1.000000    1.000000\n",
       "25%     50.000000         1.000000   20.000000\n",
       "50%     77.000000         4.000000   48.000000\n",
       "75%     91.000000        15.000000   71.250000\n",
       "max    100.000000        90.000000  100.000000"
      ]
     },
     "execution_count": 127,
     "metadata": {},
     "output_type": "execute_result"
    }
   ],
   "source": [
    "billboard_weeks_sorted.describe()"
   ]
  },
  {
   "cell_type": "markdown",
   "id": "48b84757-aeb6-4bc6-9785-f501cc6862b4",
   "metadata": {},
   "source": [
    "For the Billboard top songs, it seems that songs are on the charts for less weeks at a time, while for Spotify a song will be more popular longer. The Billboard mean for weeks a song is on the chart is 8.98, whereas on spotify it is 13.68 (about 4 weeks longer!). Additionally, the Billboard range is from 1 week to 90 weeks and the Spotify range for weeks on chart is up to 254 weeks. "
   ]
  },
  {
   "cell_type": "markdown",
   "id": "97d69e37-e72b-43e9-b193-bccbba9c39e5",
   "metadata": {},
   "source": [
    "## Part 4. Visulazations"
   ]
  },
  {
   "cell_type": "markdown",
   "id": "d17899e1-0f59-4b52-821b-64719c4b779e",
   "metadata": {},
   "source": [
    "### 4.2 Differences on Artist Preference\n",
    "To get a more general overview of what exists in the data, we will visualize differences in artist preferences on Spotify and Billboard."
   ]
  },
  {
   "cell_type": "code",
   "execution_count": 128,
   "id": "695eaa50-382d-4711-a193-94931db0a3e9",
   "metadata": {},
   "outputs": [
    {
     "name": "stdout",
     "output_type": "stream",
     "text": [
      "Requirement already satisfied: pandas in /Users/oyuesan/opt/anaconda3/lib/python3.9/site-packages (1.4.2)\n",
      "Requirement already satisfied: matplotlib in /Users/oyuesan/opt/anaconda3/lib/python3.9/site-packages (3.5.1)\n",
      "Requirement already satisfied: scikit-learn in /Users/oyuesan/opt/anaconda3/lib/python3.9/site-packages (1.2.2)\n",
      "Requirement already satisfied: python-dateutil>=2.8.1 in /Users/oyuesan/opt/anaconda3/lib/python3.9/site-packages (from pandas) (2.8.2)\n",
      "Requirement already satisfied: pytz>=2020.1 in /Users/oyuesan/opt/anaconda3/lib/python3.9/site-packages (from pandas) (2021.3)\n",
      "Requirement already satisfied: numpy>=1.18.5 in /Users/oyuesan/opt/anaconda3/lib/python3.9/site-packages (from pandas) (1.22.4)\n",
      "Requirement already satisfied: kiwisolver>=1.0.1 in /Users/oyuesan/opt/anaconda3/lib/python3.9/site-packages (from matplotlib) (1.3.2)\n",
      "Requirement already satisfied: pyparsing>=2.2.1 in /Users/oyuesan/opt/anaconda3/lib/python3.9/site-packages (from matplotlib) (3.0.4)\n",
      "Requirement already satisfied: packaging>=20.0 in /Users/oyuesan/opt/anaconda3/lib/python3.9/site-packages (from matplotlib) (21.3)\n",
      "Requirement already satisfied: cycler>=0.10 in /Users/oyuesan/opt/anaconda3/lib/python3.9/site-packages (from matplotlib) (0.11.0)\n",
      "Requirement already satisfied: fonttools>=4.22.0 in /Users/oyuesan/opt/anaconda3/lib/python3.9/site-packages (from matplotlib) (4.25.0)\n",
      "Requirement already satisfied: pillow>=6.2.0 in /Users/oyuesan/opt/anaconda3/lib/python3.9/site-packages (from matplotlib) (9.0.1)\n",
      "Requirement already satisfied: joblib>=1.1.1 in /Users/oyuesan/opt/anaconda3/lib/python3.9/site-packages (from scikit-learn) (1.2.0)\n",
      "Requirement already satisfied: scipy>=1.3.2 in /Users/oyuesan/opt/anaconda3/lib/python3.9/site-packages (from scikit-learn) (1.7.3)\n",
      "Requirement already satisfied: threadpoolctl>=2.0.0 in /Users/oyuesan/opt/anaconda3/lib/python3.9/site-packages (from scikit-learn) (2.2.0)\n",
      "Requirement already satisfied: six>=1.5 in /Users/oyuesan/opt/anaconda3/lib/python3.9/site-packages (from python-dateutil>=2.8.1->pandas) (1.16.0)\n",
      "Note: you may need to restart the kernel to use updated packages.\n"
     ]
    }
   ],
   "source": [
    "pip install pandas matplotlib scikit-learn"
   ]
  },
  {
   "cell_type": "code",
   "execution_count": 340,
   "id": "1fc63724-3074-4121-8608-b2ab23b57314",
   "metadata": {},
   "outputs": [
    {
     "name": "stdout",
     "output_type": "stream",
     "text": [
      "Requirement already satisfied: plotly in /Users/oyuesan/opt/anaconda3/lib/python3.9/site-packages (5.6.0)\n",
      "Requirement already satisfied: six in /Users/oyuesan/opt/anaconda3/lib/python3.9/site-packages (from plotly) (1.16.0)\n",
      "Requirement already satisfied: tenacity>=6.2.0 in /Users/oyuesan/opt/anaconda3/lib/python3.9/site-packages (from plotly) (8.0.1)\n",
      "Note: you may need to restart the kernel to use updated packages.\n"
     ]
    }
   ],
   "source": [
    "pip install plotly"
   ]
  },
  {
   "cell_type": "code",
   "execution_count": 314,
   "id": "6157a31a-571c-45cf-89ca-4b49ce1372d3",
   "metadata": {},
   "outputs": [],
   "source": [
    "# Import Libraries\n",
    "import matplotlib.pyplot as plt\n",
    "import seaborn as sns\n",
    "\n",
    "# Set seaborn style for nicer plots and make the colours more readable for colorblind people that may read the tutorial\n",
    "sns.set(style=\"whitegrid\")\n",
    "sns.set_palette(\"colorblind\", n_colors=10) "
   ]
  },
  {
   "cell_type": "markdown",
   "id": "16dcf08c-a535-4664-8c2b-fd1bb8cc96ae",
   "metadata": {},
   "source": [
    "#### Preprocess data"
   ]
  },
  {
   "cell_type": "code",
   "execution_count": 329,
   "id": "107b80f2-cb87-44ea-82e9-5ccdc644c0c3",
   "metadata": {},
   "outputs": [],
   "source": [
    "# Convert 'date' column to datetime\n",
    "spotify_data['date'] = pd.to_datetime(spotify_data['date'])\n",
    "billboard_data['date'] = pd.to_datetime(billboard_data['date'])\n",
    "\n",
    "# Merge the datasets\n",
    "combined_df = pd.merge(spotify_artist_stats, billboard_artist_stats, \n",
    "                         left_on='artist_names', right_on='artist')\n",
    "\n",
    "# Rename columns for clarity\n",
    "combined_df.rename(columns={'rank_x': 'Spotify_Avg_Rank', 'rank_y': 'Billboard_Avg_Rank',\n",
    "                              'streams': 'Spotify_Total_Streams', \n",
    "                              'weeks-on-board': 'Billboard_Total_Weeks'}, inplace=True)"
   ]
  },
  {
   "cell_type": "markdown",
   "id": "ae00f3f4-a46a-4686-a400-dfbaf5511029",
   "metadata": {},
   "source": [
    "#### 1. Create a Scatter Plot to Compare Average Ranks on Spotify and Billboard"
   ]
  },
  {
   "cell_type": "code",
   "execution_count": 336,
   "id": "22f981cc-d7c0-49d1-8332-c9870c5ae733",
   "metadata": {},
   "outputs": [
    {
     "data": {
      "image/png": "[encoded data removed]",
      "text/plain": [
       "<Figure size 720x432 with 1 Axes>"
      ]
     },
     "metadata": {},
     "output_type": "display_data"
    }
   ],
   "source": [
    "plt.figure(figsize=(10, 6))\n",
    "sns.scatterplot(data=combined_df, x='Spotify_Avg_Rank', y='Billboard_Avg_Rank')\n",
    "plt.title('Average Rank Comparison: Spotify vs Billboard')\n",
    "plt.xlabel('Spotify Average Rank')\n",
    "plt.ylabel('Billboard Average Rank')\n",
    "plt.gca().invert_xaxis() # Inverts the X-axis for better visualization\n",
    "plt.gca().invert_yaxis() # Inverts the Y-axis for better visualization\n",
    "plt.show()"
   ]
  },
  {
   "cell_type": "markdown",
   "id": "33ff2862-32cb-452d-83dc-dac581d58ae7",
   "metadata": {},
   "source": [
    "In the scatter plot, each point represents an artist. The position of the point is determined by the artist's average rank on Spotify and Billboard. Points closer to the bottom right corner indicate artists who have a high average rank (lower numerical value, which is better) on both platforms. From the scatter plot, we can observe that there is a spread of points across the plot, but there doesn't seem to be a clear, strong correlation between Spotify and Billboard rankings. While there are a few points towards the bottom right, suggesting some artists rank highly on both platforms, the majority of the points are scattered, indicating variability in how artists are ranked between Spotify and Billboard."
   ]
  },
  {
   "cell_type": "markdown",
   "id": "2874e1d5-74b9-4d18-8f97-f2435f526c29",
   "metadata": {},
   "source": [
    "#### 2. Create an Interactive Scatter Plot Using Plotly"
   ]
  },
  {
   "cell_type": "code",
   "execution_count": 338,
   "id": "509bbfe5-8277-4e25-8430-4cf5269cb250",
   "metadata": {},
   "outputs": [
    {
     "data": {
      "application/vnd.plotly.v1+json": {
       "config": {
        "plotlyServerURL": "https://plot.ly"
       },
       "data": [
        {
         "customdata": [
          [
           39072308,
           450
          ],
          [
           224204356,
           6
          ],
          [
           49303947,
           49
          ],
          [
           186481220,
           947
          ],
          [
           103011852,
           614
          ],
          [
           81915638,
           211
          ],
          [
           34075426,
           78
          ],
          [
           296941307,
           506
          ],
          [
           5504776,
           21
          ],
          [
           41008958,
           71
          ],
          [
           44756015,
           77
          ],
          [
           32281560,
           39
          ],
          [
           66924600,
           232
          ],
          [
           28726851,
           21
          ],
          [
           9177048,
           45
          ],
          [
           131768968,
           210
          ],
          [
           1963963,
           612
          ],
          [
           17353757,
           17
          ],
          [
           14424603,
           3
          ],
          [
           2541422,
           45
          ],
          [
           9013514,
           2
          ],
          [
           2845188,
           3
          ],
          [
           11687168,
           44
          ],
          [
           75180460,
           165
          ],
          [
           6341528,
           533
          ],
          [
           18786890,
           7
          ],
          [
           31202845,
           27
          ],
          [
           2002430,
           3
          ],
          [
           554120031,
           694
          ],
          [
           4961497,
           1
          ],
          [
           5304119,
           1
          ],
          [
           241972842,
           249
          ],
          [
           65493117,
           1067
          ],
          [
           28437521,
           300
          ],
          [
           5176051,
           9
          ],
          [
           202708267,
           255
          ],
          [
           16754194,
           3
          ],
          [
           6555170,
           91
          ],
          [
           71680296,
           105
          ],
          [
           3869426,
           277
          ],
          [
           5298973,
           22
          ],
          [
           135772591,
           455
          ],
          [
           275757590,
           861
          ],
          [
           3116230,
           1
          ],
          [
           105386203,
           251
          ],
          [
           12369768,
           10
          ],
          [
           234728368,
           32
          ],
          [
           37833996,
           174
          ],
          [
           187210452,
           267
          ],
          [
           121876951,
           325
          ],
          [
           359233898,
           121
          ],
          [
           19222949,
           19
          ],
          [
           25196030,
           15
          ],
          [
           7034562,
           2
          ],
          [
           69186063,
           388
          ],
          [
           55444671,
           348
          ],
          [
           2533505,
           62
          ],
          [
           372582540,
           586
          ],
          [
           46332349,
           3
          ],
          [
           17640238,
           1
          ],
          [
           60253125,
           1348
          ],
          [
           2795875,
           1
          ],
          [
           60232812,
           87
          ],
          [
           133828571,
           406
          ],
          [
           2212606,
           5
          ],
          [
           114344896,
           410
          ],
          [
           26255667,
           109
          ],
          [
           2113064,
           57
          ],
          [
           35043689,
           604
          ],
          [
           5826052,
           210
          ],
          [
           314664179,
           854
          ],
          [
           7095844,
           3
          ],
          [
           1939465,
           1
          ],
          [
           40983965,
           55
          ],
          [
           4291107,
           1
          ],
          [
           2559947,
           2
          ],
          [
           25366349,
           3
          ],
          [
           1482719922,
           1746
          ],
          [
           16647608,
           4
          ],
          [
           5411610,
           7
          ],
          [
           35629048,
           3
          ],
          [
           377165873,
           220
          ],
          [
           85296641,
           787
          ],
          [
           153510863,
           46
          ],
          [
           60132907,
           210
          ],
          [
           19897982,
           280
          ],
          [
           37164816,
           321
          ],
          [
           75827334,
           210
          ],
          [
           207986754,
           210
          ],
          [
           7696316,
           6
          ],
          [
           6763801,
           11
          ],
          [
           99120217,
           120
          ],
          [
           10248777,
           3
          ],
          [
           38770364,
           153
          ],
          [
           55579501,
           588
          ],
          [
           386295596,
           228
          ],
          [
           11915149,
           1
          ],
          [
           128552160,
           787
          ],
          [
           23925573,
           11
          ],
          [
           329708296,
           2820
          ],
          [
           36989571,
           6
          ],
          [
           71770524,
           190
          ],
          [
           29267015,
           19
          ],
          [
           2353323,
           1
          ],
          [
           2517194,
           79
          ],
          [
           2373319,
           21
          ]
         ],
         "hovertemplate": "Spotify_Avg_Rank=%{x}<br>Billboard_Avg_Rank=%{y}<br>Spotify_Total_Streams=%{customdata[0]}<br>artist_names=%{text}<br>Billboard_Total_Weeks=%{customdata[1]}<extra></extra>",
         "legendgroup": "",
         "marker": {
          "color": "#636efa",
          "line": {
           "color": "DarkSlateGrey",
           "width": 2
          },
          "size": [
           39072308,
           224204356,
           49303947,
           186481220,
           103011852,
           81915638,
           34075426,
           296941307,
           5504776,
           41008958,
           44756015,
           32281560,
           66924600,
           28726851,
           9177048,
           131768968,
           1963963,
           17353757,
           14424603,
           2541422,
           9013514,
           2845188,
           11687168,
           75180460,
           6341528,
           18786890,
           31202845,
           2002430,
           554120031,
           4961497,
           5304119,
           241972842,
           65493117,
           28437521,
           5176051,
           202708267,
           16754194,
           6555170,
           71680296,
           3869426,
           5298973,
           135772591,
           275757590,
           3116230,
           105386203,
           12369768,
           234728368,
           37833996,
           187210452,
           121876951,
           359233898,
           19222949,
           25196030,
           7034562,
           69186063,
           55444671,
           2533505,
           372582540,
           46332349,
           17640238,
           60253125,
           2795875,
           60232812,
           133828571,
           2212606,
           114344896,
           26255667,
           2113064,
           35043689,
           5826052,
           314664179,
           7095844,
           1939465,
           40983965,
           4291107,
           2559947,
           25366349,
           1482719922,
           16647608,
           5411610,
           35629048,
           377165873,
           85296641,
           153510863,
           60132907,
           19897982,
           37164816,
           75827334,
           207986754,
           7696316,
           6763801,
           99120217,
           10248777,
           38770364,
           55579501,
           386295596,
           11915149,
           128552160,
           23925573,
           329708296,
           36989571,
           71770524,
           29267015,
           2353323,
           2517194,
           2373319
          ],
          "sizemode": "area",
          "sizeref": 3706799.805,
          "symbol": "circle"
         },
         "mode": "markers+text",
         "name": "",
         "orientation": "v",
         "showlegend": false,
         "text": [
          "AJR",
          "Adele",
          "Andy Williams",
          "Ariana Grande",
          "BTS",
          "Bad Bunny",
          "Bella Poarch",
          "Billie Eilish",
          "Bing Crosby",
          "Bobby Helms",
          "Brenda Lee",
          "Burl Ives",
          "CJ",
          "CKay",
          "Camila Cabello",
          "Cardi B",
          "Chris Stapleton",
          "Chuck Berry",
          "Cico P",
          "City Girls",
          "Clinton Kane",
          "Coldplay",
          "DMX",
          "DaBaby",
          "Dan + Shay",
          "Darlene Love",
          "Dean Martin",
          "Demi Lovato",
          "Doja Cat",
          "Don Toliver",
          "Donny Hathaway",
          "Drake",
          "Dua Lipa",
          "Duncan Laurence",
          "Eagles",
          "Ed Sheeran",
          "Elvis Presley",
          "Erica Banks",
          "Farruko",
          "Gabby Barrett",
          "Gene Autry",
          "Giveon",
          "Glass Animals",
          "Halsey",
          "Harry Styles",
          "Ivan Cornejo",
          "J. Cole",
          "Jack Harlow",
          "Justin Bieber",
          "Kali Uchis",
          "Kanye West",
          "Kelly Clarkson",
          "Kevin Gates",
          "Kid Cudi",
          "Lewis Capaldi",
          "Lil Baby",
          "Lil Durk",
          "Lil Nas X",
          "Lil Tecca",
          "Lorde",
          "Luke Combs",
          "Machine Gun Kelly",
          "Mariah Carey",
          "Masked Wolf",
          "Meek Mill",
          "Megan Thee Stallion",
          "Migos",
          "Miley Cyrus",
          "Moneybagg Yo",
          "Mooski",
          "Morgan Wallen",
          "NF",
          "NLE Choppa",
          "Nat King Cole",
          "Nessa Barrett",
          "Nicki Minaj",
          "Oliver Tree",
          "Olivia Rodrigo",
          "Paul McCartney",
          "Perry Como",
          "Playboi Carti",
          "Polo G",
          "Pop Smoke",
          "Post Malone",
          "Rauw Alejandro",
          "Ritt Momney",
          "Rod Wave",
          "Roddy Ricch",
          "SZA",
          "Sabrina Carpenter",
          "Shawn Mendes",
          "Sleepy Hallow",
          "Sueco",
          "Tai Verdes",
          "Tate McRae",
          "Taylor Swift",
          "The Beach Boys",
          "The Kid LAROI",
          "The Ronettes",
          "The Weeknd",
          "Tyler, The Creator",
          "Walker Hayes",
          "Wham!",
          "Young Thug",
          "YoungBoy Never Broke Again",
          "Zac Brown Band"
         ],
         "type": "scatter",
         "x": [
          61.75,
          34.42857142857143,
          42.81818181818182,
          43.49122807017544,
          53.875,
          45,
          49.72727272727273,
          45.535714285714285,
          73,
          10,
          8.333333333333334,
          31.857142857142858,
          28.11764705882353,
          48.8,
          72.25,
          29,
          93,
          45.4,
          67.16666666666667,
          65,
          77,
          39,
          62.25,
          61.92857142857143,
          80.66666666666667,
          37,
          59.7,
          90,
          33.92481203007519,
          68.5,
          81.5,
          37.276595744680854,
          71,
          77.46153846153847,
          83,
          30.291666666666668,
          47.4,
          76.33333333333333,
          47.68181818181818,
          93,
          81.5,
          42.28947368421053,
          16.28846153846154,
          55,
          74.48936170212765,
          54.6,
          61.32394366197183,
          59.4,
          44.92982456140351,
          41.625,
          43.78823529411765,
          35.8,
          72.0909090909091,
          73,
          73.06451612903226,
          46.8,
          53,
          31.506666666666668,
          64.72222222222223,
          63.666666666666664,
          65.79166666666667,
          42,
          43.23076923076923,
          23.551724137931036,
          60,
          45.02857142857143,
          57.111111111111114,
          87,
          71.73333333333333,
          94.66666666666667,
          58.06956521739131,
          68.66666666666667,
          100,
          51.63636363636363,
          77,
          60,
          47.111111111111114,
          32.58174904942966,
          46.8,
          77.5,
          58.92307692307692,
          48.21649484536083,
          50.2,
          61.70175438596491,
          39.88235294117647,
          75.66666666666667,
          66,
          64.73333333333333,
          43.02,
          62.333333333333336,
          85.33333333333333,
          34.16,
          65,
          64.3125,
          54.095238095238095,
          45.80612244897959,
          66.25,
          48.11904761904762,
          20.8,
          40.01086956521739,
          49.2,
          40.5,
          23.666666666666668,
          68,
          55,
          71
         ],
         "xaxis": "x",
         "y": [
          52.23076923076923,
          23.333333333333332,
          17,
          23.912280701754387,
          25.46511627906977,
          57.76190476190476,
          71.5,
          39.45454545454545,
          35,
          9,
          7,
          10.5,
          26.625,
          43,
          75.11111111111111,
          13.7,
          56.6,
          19.5,
          94,
          85.66666666666667,
          89,
          74,
          34,
          71.14285714285714,
          60.388888888888886,
          19,
          24.5,
          77,
          53.20253164556962,
          82,
          39,
          50.05769230769231,
          39.83673469387755,
          65.08333333333333,
          45,
          20.72222222222222,
          33,
          69.84615384615384,
          38.57142857142857,
          48,
          21,
          41.7027027027027,
          38.80487804878049,
          64,
          65.28571428571429,
          73.75,
          45.4375,
          70.25,
          50.825,
          41.04,
          54.84,
          31,
          86.2,
          86,
          30.875,
          32.375,
          79.47368421052632,
          26.612244897959183,
          73.5,
          64,
          42.01587301587302,
          79,
          5,
          20.857142857142858,
          67.4,
          41.388888888888886,
          62.705882352941174,
          83.33333333333333,
          48.642857142857146,
          49.1,
          64.79569892473118,
          73,
          90,
          32.666666666666664,
          88,
          67,
          94.5,
          31.32515337423313,
          28,
          22,
          84.66666666666667,
          29.074074074074073,
          29.066666666666666,
          53.1,
          58.7,
          52.125,
          68.04444444444445,
          38.5,
          27.85,
          78.66666666666667,
          91,
          64.86666666666666,
          76,
          54.705882352941174,
          29,
          50.5,
          47,
          42.04761904761905,
          13,
          14.5625,
          70.8,
          14.052631578947368,
          9,
          96,
          74.20689655172414,
          73.66666666666667
         ],
         "yaxis": "y"
        }
       ],
       "layout": {
        "autosize": true,
        "legend": {
         "itemsizing": "constant",
         "tracegroupgap": 0
        },
        "template": {
         "data": {
          "bar": [
           {
            "error_x": {
             "color": "#2a3f5f"
            },
            "error_y": {
             "color": "#2a3f5f"
            },
            "marker": {
             "line": {
              "color": "#E5ECF6",
              "width": 0.5
             },
             "pattern": {
              "fillmode": "overlay",
              "size": 10,
              "solidity": 0.2
             }
            },
            "type": "bar"
           }
          ],
          "barpolar": [
           {
            "marker": {
             "line": {
              "color": "#E5ECF6",
              "width": 0.5
             },
             "pattern": {
              "fillmode": "overlay",
              "size": 10,
              "solidity": 0.2
             }
            },
            "type": "barpolar"
           }
          ],
          "carpet": [
           {
            "aaxis": {
             "endlinecolor": "#2a3f5f",
             "gridcolor": "white",
             "linecolor": "white",
             "minorgridcolor": "white",
             "startlinecolor": "#2a3f5f"
            },
            "baxis": {
             "endlinecolor": "#2a3f5f",
             "gridcolor": "white",
             "linecolor": "white",
             "minorgridcolor": "white",
             "startlinecolor": "#2a3f5f"
            },
            "type": "carpet"
           }
          ],
          "choropleth": [
           {
            "colorbar": {
             "outlinewidth": 0,
             "ticks": ""
            },
            "type": "choropleth"
           }
          ],
          "contour": [
           {
            "colorbar": {
             "outlinewidth": 0,
             "ticks": ""
            },
            "colorscale": [
             [
              0,
              "#0d0887"
             ],
             [
              0.1111111111111111,
              "#46039f"
             ],
             [
              0.2222222222222222,
              "#7201a8"
             ],
             [
              0.3333333333333333,
              "#9c179e"
             ],
             [
              0.4444444444444444,
              "#bd3786"
             ],
             [
              0.5555555555555556,
              "#d8576b"
             ],
             [
              0.6666666666666666,
              "#ed7953"
             ],
             [
              0.7777777777777778,
              "#fb9f3a"
             ],
             [
              0.8888888888888888,
              "#fdca26"
             ],
             [
              1,
              "#f0f921"
             ]
            ],
            "type": "contour"
           }
          ],
          "contourcarpet": [
           {
            "colorbar": {
             "outlinewidth": 0,
             "ticks": ""
            },
            "type": "contourcarpet"
           }
          ],
          "heatmap": [
           {
            "colorbar": {
             "outlinewidth": 0,
             "ticks": ""
            },
            "colorscale": [
             [
              0,
              "#0d0887"
             ],
             [
              0.1111111111111111,
              "#46039f"
             ],
             [
              0.2222222222222222,
              "#7201a8"
             ],
             [
              0.3333333333333333,
              "#9c179e"
             ],
             [
              0.4444444444444444,
              "#bd3786"
             ],
             [
              0.5555555555555556,
              "#d8576b"
             ],
             [
              0.6666666666666666,
              "#ed7953"
             ],
             [
              0.7777777777777778,
              "#fb9f3a"
             ],
             [
              0.8888888888888888,
              "#fdca26"
             ],
             [
              1,
              "#f0f921"
             ]
            ],
            "type": "heatmap"
           }
          ],
          "heatmapgl": [
           {
            "colorbar": {
             "outlinewidth": 0,
             "ticks": ""
            },
            "colorscale": [
             [
              0,
              "#0d0887"
             ],
             [
              0.1111111111111111,
              "#46039f"
             ],
             [
              0.2222222222222222,
              "#7201a8"
             ],
             [
              0.3333333333333333,
              "#9c179e"
             ],
             [
              0.4444444444444444,
              "#bd3786"
             ],
             [
              0.5555555555555556,
              "#d8576b"
             ],
             [
              0.6666666666666666,
              "#ed7953"
             ],
             [
              0.7777777777777778,
              "#fb9f3a"
             ],
             [
              0.8888888888888888,
              "#fdca26"
             ],
             [
              1,
              "#f0f921"
             ]
            ],
            "type": "heatmapgl"
           }
          ],
          "histogram": [
           {
            "marker": {
             "pattern": {
              "fillmode": "overlay",
              "size": 10,
              "solidity": 0.2
             }
            },
            "type": "histogram"
           }
          ],
          "histogram2d": [
           {
            "colorbar": {
             "outlinewidth": 0,
             "ticks": ""
            },
            "colorscale": [
             [
              0,
              "#0d0887"
             ],
             [
              0.1111111111111111,
              "#46039f"
             ],
             [
              0.2222222222222222,
              "#7201a8"
             ],
             [
              0.3333333333333333,
              "#9c179e"
             ],
             [
              0.4444444444444444,
              "#bd3786"
             ],
             [
              0.5555555555555556,
              "#d8576b"
             ],
             [
              0.6666666666666666,
              "#ed7953"
             ],
             [
              0.7777777777777778,
              "#fb9f3a"
             ],
             [
              0.8888888888888888,
              "#fdca26"
             ],
             [
              1,
              "#f0f921"
             ]
            ],
            "type": "histogram2d"
           }
          ],
          "histogram2dcontour": [
           {
            "colorbar": {
             "outlinewidth": 0,
             "ticks": ""
            },
            "colorscale": [
             [
              0,
              "#0d0887"
             ],
             [
              0.1111111111111111,
              "#46039f"
             ],
             [
              0.2222222222222222,
              "#7201a8"
             ],
             [
              0.3333333333333333,
              "#9c179e"
             ],
             [
              0.4444444444444444,
              "#bd3786"
             ],
             [
              0.5555555555555556,
              "#d8576b"
             ],
             [
              0.6666666666666666,
              "#ed7953"
             ],
             [
              0.7777777777777778,
              "#fb9f3a"
             ],
             [
              0.8888888888888888,
              "#fdca26"
             ],
             [
              1,
              "#f0f921"
             ]
            ],
            "type": "histogram2dcontour"
           }
          ],
          "mesh3d": [
           {
            "colorbar": {
             "outlinewidth": 0,
             "ticks": ""
            },
            "type": "mesh3d"
           }
          ],
          "parcoords": [
           {
            "line": {
             "colorbar": {
              "outlinewidth": 0,
              "ticks": ""
             }
            },
            "type": "parcoords"
           }
          ],
          "pie": [
           {
            "automargin": true,
            "type": "pie"
           }
          ],
          "scatter": [
           {
            "marker": {
             "colorbar": {
              "outlinewidth": 0,
              "ticks": ""
             }
            },
            "type": "scatter"
           }
          ],
          "scatter3d": [
           {
            "line": {
             "colorbar": {
              "outlinewidth": 0,
              "ticks": ""
             }
            },
            "marker": {
             "colorbar": {
              "outlinewidth": 0,
              "ticks": ""
             }
            },
            "type": "scatter3d"
           }
          ],
          "scattercarpet": [
           {
            "marker": {
             "colorbar": {
              "outlinewidth": 0,
              "ticks": ""
             }
            },
            "type": "scattercarpet"
           }
          ],
          "scattergeo": [
           {
            "marker": {
             "colorbar": {
              "outlinewidth": 0,
              "ticks": ""
             }
            },
            "type": "scattergeo"
           }
          ],
          "scattergl": [
           {
            "marker": {
             "colorbar": {
              "outlinewidth": 0,
              "ticks": ""
             }
            },
            "type": "scattergl"
           }
          ],
          "scattermapbox": [
           {
            "marker": {
             "colorbar": {
              "outlinewidth": 0,
              "ticks": ""
             }
            },
            "type": "scattermapbox"
           }
          ],
          "scatterpolar": [
           {
            "marker": {
             "colorbar": {
              "outlinewidth": 0,
              "ticks": ""
             }
            },
            "type": "scatterpolar"
           }
          ],
          "scatterpolargl": [
           {
            "marker": {
             "colorbar": {
              "outlinewidth": 0,
              "ticks": ""
             }
            },
            "type": "scatterpolargl"
           }
          ],
          "scatterternary": [
           {
            "marker": {
             "colorbar": {
              "outlinewidth": 0,
              "ticks": ""
             }
            },
            "type": "scatterternary"
           }
          ],
          "surface": [
           {
            "colorbar": {
             "outlinewidth": 0,
             "ticks": ""
            },
            "colorscale": [
             [
              0,
              "#0d0887"
             ],
             [
              0.1111111111111111,
              "#46039f"
             ],
             [
              0.2222222222222222,
              "#7201a8"
             ],
             [
              0.3333333333333333,
              "#9c179e"
             ],
             [
              0.4444444444444444,
              "#bd3786"
             ],
             [
              0.5555555555555556,
              "#d8576b"
             ],
             [
              0.6666666666666666,
              "#ed7953"
             ],
             [
              0.7777777777777778,
              "#fb9f3a"
             ],
             [
              0.8888888888888888,
              "#fdca26"
             ],
             [
              1,
              "#f0f921"
             ]
            ],
            "type": "surface"
           }
          ],
          "table": [
           {
            "cells": {
             "fill": {
              "color": "#EBF0F8"
             },
             "line": {
              "color": "white"
             }
            },
            "header": {
             "fill": {
              "color": "#C8D4E3"
             },
             "line": {
              "color": "white"
             }
            },
            "type": "table"
           }
          ]
         },
         "layout": {
          "annotationdefaults": {
           "arrowcolor": "#2a3f5f",
           "arrowhead": 0,
           "arrowwidth": 1
          },
          "autotypenumbers": "strict",
          "coloraxis": {
           "colorbar": {
            "outlinewidth": 0,
            "ticks": ""
           }
          },
          "colorscale": {
           "diverging": [
            [
             0,
             "#8e0152"
            ],
            [
             0.1,
             "#c51b7d"
            ],
            [
             0.2,
             "#de77ae"
            ],
            [
             0.3,
             "#f1b6da"
            ],
            [
             0.4,
             "#fde0ef"
            ],
            [
             0.5,
             "#f7f7f7"
            ],
            [
             0.6,
             "#e6f5d0"
            ],
            [
             0.7,
             "#b8e186"
            ],
            [
             0.8,
             "#7fbc41"
            ],
            [
             0.9,
             "#4d9221"
            ],
            [
             1,
             "#276419"
            ]
           ],
           "sequential": [
            [
             0,
             "#0d0887"
            ],
            [
             0.1111111111111111,
             "#46039f"
            ],
            [
             0.2222222222222222,
             "#7201a8"
            ],
            [
             0.3333333333333333,
             "#9c179e"
            ],
            [
             0.4444444444444444,
             "#bd3786"
            ],
            [
             0.5555555555555556,
             "#d8576b"
            ],
            [
             0.6666666666666666,
             "#ed7953"
            ],
            [
             0.7777777777777778,
             "#fb9f3a"
            ],
            [
             0.8888888888888888,
             "#fdca26"
            ],
            [
             1,
             "#f0f921"
            ]
           ],
           "sequentialminus": [
            [
             0,
             "#0d0887"
            ],
            [
             0.1111111111111111,
             "#46039f"
            ],
            [
             0.2222222222222222,
             "#7201a8"
            ],
            [
             0.3333333333333333,
             "#9c179e"
            ],
            [
             0.4444444444444444,
             "#bd3786"
            ],
            [
             0.5555555555555556,
             "#d8576b"
            ],
            [
             0.6666666666666666,
             "#ed7953"
            ],
            [
             0.7777777777777778,
             "#fb9f3a"
            ],
            [
             0.8888888888888888,
             "#fdca26"
            ],
            [
             1,
             "#f0f921"
            ]
           ]
          },
          "colorway": [
           "#636efa",
           "#EF553B",
           "#00cc96",
           "#ab63fa",
           "#FFA15A",
           "#19d3f3",
           "#FF6692",
           "#B6E880",
           "#FF97FF",
           "#FECB52"
          ],
          "font": {
           "color": "#2a3f5f"
          },
          "geo": {
           "bgcolor": "white",
           "lakecolor": "white",
           "landcolor": "#E5ECF6",
           "showlakes": true,
           "showland": true,
           "subunitcolor": "white"
          },
          "hoverlabel": {
           "align": "left"
          },
          "hovermode": "closest",
          "mapbox": {
           "style": "light"
          },
          "paper_bgcolor": "white",
          "plot_bgcolor": "#E5ECF6",
          "polar": {
           "angularaxis": {
            "gridcolor": "white",
            "linecolor": "white",
            "ticks": ""
           },
           "bgcolor": "#E5ECF6",
           "radialaxis": {
            "gridcolor": "white",
            "linecolor": "white",
            "ticks": ""
           }
          },
          "scene": {
           "xaxis": {
            "backgroundcolor": "#E5ECF6",
            "gridcolor": "white",
            "gridwidth": 2,
            "linecolor": "white",
            "showbackground": true,
            "ticks": "",
            "zerolinecolor": "white"
           },
           "yaxis": {
            "backgroundcolor": "#E5ECF6",
            "gridcolor": "white",
            "gridwidth": 2,
            "linecolor": "white",
            "showbackground": true,
            "ticks": "",
            "zerolinecolor": "white"
           },
           "zaxis": {
            "backgroundcolor": "#E5ECF6",
            "gridcolor": "white",
            "gridwidth": 2,
            "linecolor": "white",
            "showbackground": true,
            "ticks": "",
            "zerolinecolor": "white"
           }
          },
          "shapedefaults": {
           "line": {
            "color": "#2a3f5f"
           }
          },
          "ternary": {
           "aaxis": {
            "gridcolor": "white",
            "linecolor": "white",
            "ticks": ""
           },
           "baxis": {
            "gridcolor": "white",
            "linecolor": "white",
            "ticks": ""
           },
           "bgcolor": "#E5ECF6",
           "caxis": {
            "gridcolor": "white",
            "linecolor": "white",
            "ticks": ""
           }
          },
          "title": {
           "x": 0.05
          },
          "xaxis": {
           "automargin": true,
           "gridcolor": "white",
           "linecolor": "white",
           "ticks": "",
           "title": {
            "standoff": 15
           },
           "zerolinecolor": "white",
           "zerolinewidth": 2
          },
          "yaxis": {
           "automargin": true,
           "gridcolor": "white",
           "linecolor": "white",
           "ticks": "",
           "title": {
            "standoff": 15
           },
           "zerolinecolor": "white",
           "zerolinewidth": 2
          }
         }
        },
        "title": {
         "text": "Interactive Scatter Plot: Spotify vs Billboard"
        },
        "xaxis": {
         "anchor": "y",
         "autorange": true,
         "domain": [
          0,
          1
         ],
         "range": [
          105.49612607853496,
          2.83720725479838
         ],
         "title": {
          "text": "Spotify Average Rank"
         },
         "type": "linear"
        },
        "yaxis": {
         "anchor": "x",
         "autorange": true,
         "domain": [
          0,
          1
         ],
         "range": [
          103.00839282768507,
          -2.11749958759106
         ],
         "title": {
          "text": "Billboard Average Rank"
         },
         "type": "linear"
        }
       }
      },
      "image/png": "[encoded data removed]",
      "text/html": [
       "<div>                            <div id=\"b191b139-904b-4169-abd7-c6d70fad0e56\" class=\"plotly-graph-div\" style=\"height:525px; width:100%;\"></div>            <script type=\"text/javascript\">                require([\"plotly\"], function(Plotly) {                    window.PLOTLYENV=window.PLOTLYENV || {};                                    if (document.getElementById(\"b191b139-904b-4169-abd7-c6d70fad0e56\")) {                    Plotly.newPlot(                        \"b191b139-904b-4169-abd7-c6d70fad0e56\",                        [{\"customdata\":[[39072308,450],[224204356,6],[49303947,49],[186481220,947],[103011852,614],[81915638,211],[34075426,78],[296941307,506],[5504776,21],[41008958,71],[44756015,77],[32281560,39],[66924600,232],[28726851,21],[9177048,45],[131768968,210],[1963963,612],[17353757,17],[14424603,3],[2541422,45],[9013514,2],[2845188,3],[11687168,44],[75180460,165],[6341528,533],[18786890,7],[31202845,27],[2002430,3],[554120031,694],[4961497,1],[5304119,1],[241972842,249],[65493117,1067],[28437521,300],[5176051,9],[202708267,255],[16754194,3],[6555170,91],[71680296,105],[3869426,277],[5298973,22],[135772591,455],[275757590,861],[3116230,1],[105386203,251],[12369768,10],[234728368,32],[37833996,174],[187210452,267],[121876951,325],[359233898,121],[19222949,19],[25196030,15],[7034562,2],[69186063,388],[55444671,348],[2533505,62],[372582540,586],[46332349,3],[17640238,1],[60253125,1348],[2795875,1],[60232812,87],[133828571,406],[2212606,5],[114344896,410],[26255667,109],[2113064,57],[35043689,604],[5826052,210],[314664179,854],[7095844,3],[1939465,1],[40983965,55],[4291107,1],[2559947,2],[25366349,3],[1482719922,1746],[16647608,4],[5411610,7],[35629048,3],[377165873,220],[85296641,787],[153510863,46],[60132907,210],[19897982,280],[37164816,321],[75827334,210],[207986754,210],[7696316,6],[6763801,11],[99120217,120],[10248777,3],[38770364,153],[55579501,588],[386295596,228],[11915149,1],[128552160,787],[23925573,11],[329708296,2820],[36989571,6],[71770524,190],[29267015,19],[2353323,1],[2517194,79],[2373319,21]],\"hovertemplate\":\"Spotify_Avg_Rank=%{x}<br>Billboard_Avg_Rank=%{y}<br>Spotify_Total_Streams=%{customdata[0]}<br>artist_names=%{text}<br>Billboard_Total_Weeks=%{customdata[1]}<extra></extra>\",\"legendgroup\":\"\",\"marker\":{\"color\":\"#636efa\",\"size\":[39072308,224204356,49303947,186481220,103011852,81915638,34075426,296941307,5504776,41008958,44756015,32281560,66924600,28726851,9177048,131768968,1963963,17353757,14424603,2541422,9013514,2845188,11687168,75180460,6341528,18786890,31202845,2002430,554120031,4961497,5304119,241972842,65493117,28437521,5176051,202708267,16754194,6555170,71680296,3869426,5298973,135772591,275757590,3116230,105386203,12369768,234728368,37833996,187210452,121876951,359233898,19222949,25196030,7034562,69186063,55444671,2533505,372582540,46332349,17640238,60253125,2795875,60232812,133828571,2212606,114344896,26255667,2113064,35043689,5826052,314664179,7095844,1939465,40983965,4291107,2559947,25366349,1482719922,16647608,5411610,35629048,377165873,85296641,153510863,60132907,19897982,37164816,75827334,207986754,7696316,6763801,99120217,10248777,38770364,55579501,386295596,11915149,128552160,23925573,329708296,36989571,71770524,29267015,2353323,2517194,2373319],\"sizemode\":\"area\",\"sizeref\":3706799.805,\"symbol\":\"circle\",\"line\":{\"color\":\"DarkSlateGrey\",\"width\":2}},\"mode\":\"markers+text\",\"name\":\"\",\"orientation\":\"v\",\"showlegend\":false,\"text\":[\"AJR\",\"Adele\",\"Andy Williams\",\"Ariana Grande\",\"BTS\",\"Bad Bunny\",\"Bella Poarch\",\"Billie Eilish\",\"Bing Crosby\",\"Bobby Helms\",\"Brenda Lee\",\"Burl Ives\",\"CJ\",\"CKay\",\"Camila Cabello\",\"Cardi B\",\"Chris Stapleton\",\"Chuck Berry\",\"Cico P\",\"City Girls\",\"Clinton Kane\",\"Coldplay\",\"DMX\",\"DaBaby\",\"Dan + Shay\",\"Darlene Love\",\"Dean Martin\",\"Demi Lovato\",\"Doja Cat\",\"Don Toliver\",\"Donny Hathaway\",\"Drake\",\"Dua Lipa\",\"Duncan Laurence\",\"Eagles\",\"Ed Sheeran\",\"Elvis Presley\",\"Erica Banks\",\"Farruko\",\"Gabby Barrett\",\"Gene Autry\",\"Giveon\",\"Glass Animals\",\"Halsey\",\"Harry Styles\",\"Ivan Cornejo\",\"J. Cole\",\"Jack Harlow\",\"Justin Bieber\",\"Kali Uchis\",\"Kanye West\",\"Kelly Clarkson\",\"Kevin Gates\",\"Kid Cudi\",\"Lewis Capaldi\",\"Lil Baby\",\"Lil Durk\",\"Lil Nas X\",\"Lil Tecca\",\"Lorde\",\"Luke Combs\",\"Machine Gun Kelly\",\"Mariah Carey\",\"Masked Wolf\",\"Meek Mill\",\"Megan Thee Stallion\",\"Migos\",\"Miley Cyrus\",\"Moneybagg Yo\",\"Mooski\",\"Morgan Wallen\",\"NF\",\"NLE Choppa\",\"Nat King Cole\",\"Nessa Barrett\",\"Nicki Minaj\",\"Oliver Tree\",\"Olivia Rodrigo\",\"Paul McCartney\",\"Perry Como\",\"Playboi Carti\",\"Polo G\",\"Pop Smoke\",\"Post Malone\",\"Rauw Alejandro\",\"Ritt Momney\",\"Rod Wave\",\"Roddy Ricch\",\"SZA\",\"Sabrina Carpenter\",\"Shawn Mendes\",\"Sleepy Hallow\",\"Sueco\",\"Tai Verdes\",\"Tate McRae\",\"Taylor Swift\",\"The Beach Boys\",\"The Kid LAROI\",\"The Ronettes\",\"The Weeknd\",\"Tyler, The Creator\",\"Walker Hayes\",\"Wham!\",\"Young Thug\",\"YoungBoy Never Broke Again\",\"Zac Brown Band\"],\"x\":[61.75,34.42857142857143,42.81818181818182,43.49122807017544,53.875,45.0,49.72727272727273,45.535714285714285,73.0,10.0,8.333333333333334,31.857142857142858,28.11764705882353,48.8,72.25,29.0,93.0,45.4,67.16666666666667,65.0,77.0,39.0,62.25,61.92857142857143,80.66666666666667,37.0,59.7,90.0,33.92481203007519,68.5,81.5,37.276595744680854,71.0,77.46153846153847,83.0,30.291666666666668,47.4,76.33333333333333,47.68181818181818,93.0,81.5,42.28947368421053,16.28846153846154,55.0,74.48936170212765,54.6,61.32394366197183,59.4,44.92982456140351,41.625,43.78823529411765,35.8,72.0909090909091,73.0,73.06451612903226,46.8,53.0,31.506666666666668,64.72222222222223,63.666666666666664,65.79166666666667,42.0,43.23076923076923,23.551724137931036,60.0,45.02857142857143,57.111111111111114,87.0,71.73333333333333,94.66666666666667,58.06956521739131,68.66666666666667,100.0,51.63636363636363,77.0,60.0,47.111111111111114,32.58174904942966,46.8,77.5,58.92307692307692,48.21649484536083,50.2,61.70175438596491,39.88235294117647,75.66666666666667,66.0,64.73333333333333,43.02,62.333333333333336,85.33333333333333,34.16,65.0,64.3125,54.095238095238095,45.80612244897959,66.25,48.11904761904762,20.8,40.01086956521739,49.2,40.5,23.666666666666668,68.0,55.0,71.0],\"xaxis\":\"x\",\"y\":[52.23076923076923,23.333333333333332,17.0,23.912280701754387,25.46511627906977,57.76190476190476,71.5,39.45454545454545,35.0,9.0,7.0,10.5,26.625,43.0,75.11111111111111,13.7,56.6,19.5,94.0,85.66666666666667,89.0,74.0,34.0,71.14285714285714,60.388888888888886,19.0,24.5,77.0,53.20253164556962,82.0,39.0,50.05769230769231,39.83673469387755,65.08333333333333,45.0,20.72222222222222,33.0,69.84615384615384,38.57142857142857,48.0,21.0,41.7027027027027,38.80487804878049,64.0,65.28571428571429,73.75,45.4375,70.25,50.825,41.04,54.84,31.0,86.2,86.0,30.875,32.375,79.47368421052632,26.612244897959183,73.5,64.0,42.01587301587302,79.0,5.0,20.857142857142858,67.4,41.388888888888886,62.705882352941174,83.33333333333333,48.642857142857146,49.1,64.79569892473118,73.0,90.0,32.666666666666664,88.0,67.0,94.5,31.32515337423313,28.0,22.0,84.66666666666667,29.074074074074073,29.066666666666666,53.1,58.7,52.125,68.04444444444445,38.5,27.85,78.66666666666667,91.0,64.86666666666666,76.0,54.705882352941174,29.0,50.5,47.0,42.04761904761905,13.0,14.5625,70.8,14.052631578947368,9.0,96.0,74.20689655172414,73.66666666666667],\"yaxis\":\"y\",\"type\":\"scatter\"}],                        {\"template\":{\"data\":{\"bar\":[{\"error_x\":{\"color\":\"#2a3f5f\"},\"error_y\":{\"color\":\"#2a3f5f\"},\"marker\":{\"line\":{\"color\":\"#E5ECF6\",\"width\":0.5},\"pattern\":{\"fillmode\":\"overlay\",\"size\":10,\"solidity\":0.2}},\"type\":\"bar\"}],\"barpolar\":[{\"marker\":{\"line\":{\"color\":\"#E5ECF6\",\"width\":0.5},\"pattern\":{\"fillmode\":\"overlay\",\"size\":10,\"solidity\":0.2}},\"type\":\"barpolar\"}],\"carpet\":[{\"aaxis\":{\"endlinecolor\":\"#2a3f5f\",\"gridcolor\":\"white\",\"linecolor\":\"white\",\"minorgridcolor\":\"white\",\"startlinecolor\":\"#2a3f5f\"},\"baxis\":{\"endlinecolor\":\"#2a3f5f\",\"gridcolor\":\"white\",\"linecolor\":\"white\",\"minorgridcolor\":\"white\",\"startlinecolor\":\"#2a3f5f\"},\"type\":\"carpet\"}],\"choropleth\":[{\"colorbar\":{\"outlinewidth\":0,\"ticks\":\"\"},\"type\":\"choropleth\"}],\"contour\":[{\"colorbar\":{\"outlinewidth\":0,\"ticks\":\"\"},\"colorscale\":[[0.0,\"#0d0887\"],[0.1111111111111111,\"#46039f\"],[0.2222222222222222,\"#7201a8\"],[0.3333333333333333,\"#9c179e\"],[0.4444444444444444,\"#bd3786\"],[0.5555555555555556,\"#d8576b\"],[0.6666666666666666,\"#ed7953\"],[0.7777777777777778,\"#fb9f3a\"],[0.8888888888888888,\"#fdca26\"],[1.0,\"#f0f921\"]],\"type\":\"contour\"}],\"contourcarpet\":[{\"colorbar\":{\"outlinewidth\":0,\"ticks\":\"\"},\"type\":\"contourcarpet\"}],\"heatmap\":[{\"colorbar\":{\"outlinewidth\":0,\"ticks\":\"\"},\"colorscale\":[[0.0,\"#0d0887\"],[0.1111111111111111,\"#46039f\"],[0.2222222222222222,\"#7201a8\"],[0.3333333333333333,\"#9c179e\"],[0.4444444444444444,\"#bd3786\"],[0.5555555555555556,\"#d8576b\"],[0.6666666666666666,\"#ed7953\"],[0.7777777777777778,\"#fb9f3a\"],[0.8888888888888888,\"#fdca26\"],[1.0,\"#f0f921\"]],\"type\":\"heatmap\"}],\"heatmapgl\":[{\"colorbar\":{\"outlinewidth\":0,\"ticks\":\"\"},\"colorscale\":[[0.0,\"#0d0887\"],[0.1111111111111111,\"#46039f\"],[0.2222222222222222,\"#7201a8\"],[0.3333333333333333,\"#9c179e\"],[0.4444444444444444,\"#bd3786\"],[0.5555555555555556,\"#d8576b\"],[0.6666666666666666,\"#ed7953\"],[0.7777777777777778,\"#fb9f3a\"],[0.8888888888888888,\"#fdca26\"],[1.0,\"#f0f921\"]],\"type\":\"heatmapgl\"}],\"histogram\":[{\"marker\":{\"pattern\":{\"fillmode\":\"overlay\",\"size\":10,\"solidity\":0.2}},\"type\":\"histogram\"}],\"histogram2d\":[{\"colorbar\":{\"outlinewidth\":0,\"ticks\":\"\"},\"colorscale\":[[0.0,\"#0d0887\"],[0.1111111111111111,\"#46039f\"],[0.2222222222222222,\"#7201a8\"],[0.3333333333333333,\"#9c179e\"],[0.4444444444444444,\"#bd3786\"],[0.5555555555555556,\"#d8576b\"],[0.6666666666666666,\"#ed7953\"],[0.7777777777777778,\"#fb9f3a\"],[0.8888888888888888,\"#fdca26\"],[1.0,\"#f0f921\"]],\"type\":\"histogram2d\"}],\"histogram2dcontour\":[{\"colorbar\":{\"outlinewidth\":0,\"ticks\":\"\"},\"colorscale\":[[0.0,\"#0d0887\"],[0.1111111111111111,\"#46039f\"],[0.2222222222222222,\"#7201a8\"],[0.3333333333333333,\"#9c179e\"],[0.4444444444444444,\"#bd3786\"],[0.5555555555555556,\"#d8576b\"],[0.6666666666666666,\"#ed7953\"],[0.7777777777777778,\"#fb9f3a\"],[0.8888888888888888,\"#fdca26\"],[1.0,\"#f0f921\"]],\"type\":\"histogram2dcontour\"}],\"mesh3d\":[{\"colorbar\":{\"outlinewidth\":0,\"ticks\":\"\"},\"type\":\"mesh3d\"}],\"parcoords\":[{\"line\":{\"colorbar\":{\"outlinewidth\":0,\"ticks\":\"\"}},\"type\":\"parcoords\"}],\"pie\":[{\"automargin\":true,\"type\":\"pie\"}],\"scatter\":[{\"marker\":{\"colorbar\":{\"outlinewidth\":0,\"ticks\":\"\"}},\"type\":\"scatter\"}],\"scatter3d\":[{\"line\":{\"colorbar\":{\"outlinewidth\":0,\"ticks\":\"\"}},\"marker\":{\"colorbar\":{\"outlinewidth\":0,\"ticks\":\"\"}},\"type\":\"scatter3d\"}],\"scattercarpet\":[{\"marker\":{\"colorbar\":{\"outlinewidth\":0,\"ticks\":\"\"}},\"type\":\"scattercarpet\"}],\"scattergeo\":[{\"marker\":{\"colorbar\":{\"outlinewidth\":0,\"ticks\":\"\"}},\"type\":\"scattergeo\"}],\"scattergl\":[{\"marker\":{\"colorbar\":{\"outlinewidth\":0,\"ticks\":\"\"}},\"type\":\"scattergl\"}],\"scattermapbox\":[{\"marker\":{\"colorbar\":{\"outlinewidth\":0,\"ticks\":\"\"}},\"type\":\"scattermapbox\"}],\"scatterpolar\":[{\"marker\":{\"colorbar\":{\"outlinewidth\":0,\"ticks\":\"\"}},\"type\":\"scatterpolar\"}],\"scatterpolargl\":[{\"marker\":{\"colorbar\":{\"outlinewidth\":0,\"ticks\":\"\"}},\"type\":\"scatterpolargl\"}],\"scatterternary\":[{\"marker\":{\"colorbar\":{\"outlinewidth\":0,\"ticks\":\"\"}},\"type\":\"scatterternary\"}],\"surface\":[{\"colorbar\":{\"outlinewidth\":0,\"ticks\":\"\"},\"colorscale\":[[0.0,\"#0d0887\"],[0.1111111111111111,\"#46039f\"],[0.2222222222222222,\"#7201a8\"],[0.3333333333333333,\"#9c179e\"],[0.4444444444444444,\"#bd3786\"],[0.5555555555555556,\"#d8576b\"],[0.6666666666666666,\"#ed7953\"],[0.7777777777777778,\"#fb9f3a\"],[0.8888888888888888,\"#fdca26\"],[1.0,\"#f0f921\"]],\"type\":\"surface\"}],\"table\":[{\"cells\":{\"fill\":{\"color\":\"#EBF0F8\"},\"line\":{\"color\":\"white\"}},\"header\":{\"fill\":{\"color\":\"#C8D4E3\"},\"line\":{\"color\":\"white\"}},\"type\":\"table\"}]},\"layout\":{\"annotationdefaults\":{\"arrowcolor\":\"#2a3f5f\",\"arrowhead\":0,\"arrowwidth\":1},\"autotypenumbers\":\"strict\",\"coloraxis\":{\"colorbar\":{\"outlinewidth\":0,\"ticks\":\"\"}},\"colorscale\":{\"diverging\":[[0,\"#8e0152\"],[0.1,\"#c51b7d\"],[0.2,\"#de77ae\"],[0.3,\"#f1b6da\"],[0.4,\"#fde0ef\"],[0.5,\"#f7f7f7\"],[0.6,\"#e6f5d0\"],[0.7,\"#b8e186\"],[0.8,\"#7fbc41\"],[0.9,\"#4d9221\"],[1,\"#276419\"]],\"sequential\":[[0.0,\"#0d0887\"],[0.1111111111111111,\"#46039f\"],[0.2222222222222222,\"#7201a8\"],[0.3333333333333333,\"#9c179e\"],[0.4444444444444444,\"#bd3786\"],[0.5555555555555556,\"#d8576b\"],[0.6666666666666666,\"#ed7953\"],[0.7777777777777778,\"#fb9f3a\"],[0.8888888888888888,\"#fdca26\"],[1.0,\"#f0f921\"]],\"sequentialminus\":[[0.0,\"#0d0887\"],[0.1111111111111111,\"#46039f\"],[0.2222222222222222,\"#7201a8\"],[0.3333333333333333,\"#9c179e\"],[0.4444444444444444,\"#bd3786\"],[0.5555555555555556,\"#d8576b\"],[0.6666666666666666,\"#ed7953\"],[0.7777777777777778,\"#fb9f3a\"],[0.8888888888888888,\"#fdca26\"],[1.0,\"#f0f921\"]]},\"colorway\":[\"#636efa\",\"#EF553B\",\"#00cc96\",\"#ab63fa\",\"#FFA15A\",\"#19d3f3\",\"#FF6692\",\"#B6E880\",\"#FF97FF\",\"#FECB52\"],\"font\":{\"color\":\"#2a3f5f\"},\"geo\":{\"bgcolor\":\"white\",\"lakecolor\":\"white\",\"landcolor\":\"#E5ECF6\",\"showlakes\":true,\"showland\":true,\"subunitcolor\":\"white\"},\"hoverlabel\":{\"align\":\"left\"},\"hovermode\":\"closest\",\"mapbox\":{\"style\":\"light\"},\"paper_bgcolor\":\"white\",\"plot_bgcolor\":\"#E5ECF6\",\"polar\":{\"angularaxis\":{\"gridcolor\":\"white\",\"linecolor\":\"white\",\"ticks\":\"\"},\"bgcolor\":\"#E5ECF6\",\"radialaxis\":{\"gridcolor\":\"white\",\"linecolor\":\"white\",\"ticks\":\"\"}},\"scene\":{\"xaxis\":{\"backgroundcolor\":\"#E5ECF6\",\"gridcolor\":\"white\",\"gridwidth\":2,\"linecolor\":\"white\",\"showbackground\":true,\"ticks\":\"\",\"zerolinecolor\":\"white\"},\"yaxis\":{\"backgroundcolor\":\"#E5ECF6\",\"gridcolor\":\"white\",\"gridwidth\":2,\"linecolor\":\"white\",\"showbackground\":true,\"ticks\":\"\",\"zerolinecolor\":\"white\"},\"zaxis\":{\"backgroundcolor\":\"#E5ECF6\",\"gridcolor\":\"white\",\"gridwidth\":2,\"linecolor\":\"white\",\"showbackground\":true,\"ticks\":\"\",\"zerolinecolor\":\"white\"}},\"shapedefaults\":{\"line\":{\"color\":\"#2a3f5f\"}},\"ternary\":{\"aaxis\":{\"gridcolor\":\"white\",\"linecolor\":\"white\",\"ticks\":\"\"},\"baxis\":{\"gridcolor\":\"white\",\"linecolor\":\"white\",\"ticks\":\"\"},\"bgcolor\":\"#E5ECF6\",\"caxis\":{\"gridcolor\":\"white\",\"linecolor\":\"white\",\"ticks\":\"\"}},\"title\":{\"x\":0.05},\"xaxis\":{\"automargin\":true,\"gridcolor\":\"white\",\"linecolor\":\"white\",\"ticks\":\"\",\"title\":{\"standoff\":15},\"zerolinecolor\":\"white\",\"zerolinewidth\":2},\"yaxis\":{\"automargin\":true,\"gridcolor\":\"white\",\"linecolor\":\"white\",\"ticks\":\"\",\"title\":{\"standoff\":15},\"zerolinecolor\":\"white\",\"zerolinewidth\":2}}},\"xaxis\":{\"anchor\":\"y\",\"domain\":[0.0,1.0],\"title\":{\"text\":\"Spotify Average Rank\"},\"autorange\":\"reversed\"},\"yaxis\":{\"anchor\":\"x\",\"domain\":[0.0,1.0],\"title\":{\"text\":\"Billboard Average Rank\"},\"autorange\":\"reversed\"},\"legend\":{\"tracegroupgap\":0,\"itemsizing\":\"constant\"},\"title\":{\"text\":\"Interactive Scatter Plot: Spotify vs Billboard\"}},                        {\"responsive\": true}                    ).then(function(){\n",
       "                            \n",
       "var gd = document.getElementById('b191b139-904b-4169-abd7-c6d70fad0e56');\n",
       "var x = new MutationObserver(function (mutations, observer) {{\n",
       "        var display = window.getComputedStyle(gd).display;\n",
       "        if (!display || display === 'none') {{\n",
       "            console.log([gd, 'removed!']);\n",
       "            Plotly.purge(gd);\n",
       "            observer.disconnect();\n",
       "        }}\n",
       "}});\n",
       "\n",
       "// Listen for the removal of the full notebook cells\n",
       "var notebookContainer = gd.closest('#notebook-container');\n",
       "if (notebookContainer) {{\n",
       "    x.observe(notebookContainer, {childList: true});\n",
       "}}\n",
       "\n",
       "// Listen for the clearing of the current output cell\n",
       "var outputEl = gd.closest('.output');\n",
       "if (outputEl) {{\n",
       "    x.observe(outputEl, {childList: true});\n",
       "}}\n",
       "\n",
       "                        })                };                });            </script>        </div>"
      ]
     },
     "metadata": {},
     "output_type": "display_data"
    }
   ],
   "source": [
    "import plotly.express as px\n",
    "\n",
    "fig = px.scatter(combined_df, x='Spotify_Avg_Rank', y='Billboard_Avg_Rank', \n",
    "                 text='artist_names', size='Spotify_Total_Streams', \n",
    "                 hover_data=['Spotify_Total_Streams', 'Billboard_Total_Weeks'],\n",
    "                 title='Interactive Scatter Plot: Spotify vs Billboard')\n",
    "fig.update_traces(marker=dict(line=dict(width=2, color='DarkSlateGrey')))\n",
    "fig.update_layout(xaxis_title='Spotify Average Rank', yaxis_title='Billboard Average Rank')\n",
    "fig.update_xaxes(autorange=\"reversed\") # Reverse the axis for better interpretation\n",
    "fig.update_yaxes(autorange=\"reversed\")\n",
    "fig.show()"
   ]
  },
  {
   "cell_type": "markdown",
   "id": "738159c7-da78-4ba1-b70a-6cbd8e2a2611",
   "metadata": {},
   "source": [
    "The size of the point reflects the total streams of the artist on Spotify. Hovering over a point shows additional information like the artist's name, total streams on Spotify, and total weeks on Billboard. The position of the artist names on the plot indicates their relative ranks on both platforms. For instance, artists like Mariah Carey and Glass Animals, which appear closer to the bottom right corner, likely have a high average rank (better performance) on both Spotify and Billboard. Some artist with a high Billboard rank but a low Spotify rank might be indicative of a release that is popular in sales or radio play but not as much on streaming platforms."
   ]
  },
  {
   "cell_type": "markdown",
   "id": "23e29a83-f118-4d00-a170-564108e0e988",
   "metadata": {},
   "source": [
    "#### 3. Create Comparative Histograms for Spotify and Billboard Average Ranks"
   ]
  },
  {
   "cell_type": "code",
   "execution_count": 339,
   "id": "2687b5ba-8f75-4aa0-af17-96ed6fc5df8f",
   "metadata": {},
   "outputs": [
    {
     "data": {
      "image/png": "[encoded data removed]",
      "text/plain": [
       "<Figure size 864x432 with 1 Axes>"
      ]
     },
     "metadata": {},
     "output_type": "display_data"
    }
   ],
   "source": [
    "# Comparative Histograms show the distribution of ranks for artists on Spotify and Billboard\n",
    "\n",
    "plt.figure(figsize=(12, 6))\n",
    "sns.histplot(combined_df['Spotify_Avg_Rank'], color=\"skyblue\", label=\"Spotify Avg Rank\", kde=True)\n",
    "sns.histplot(combined_df['Billboard_Avg_Rank'], color=\"red\", label=\"Billboard Avg Rank\", kde=True)\n",
    "plt.title('Distribution of Average Ranks on Spotify and Billboard')\n",
    "plt.xlabel('Average Rank')\n",
    "plt.ylabel('Density')\n",
    "plt.legend()\n",
    "plt.show()"
   ]
  },
  {
   "cell_type": "markdown",
   "id": "ce95af94-a2b9-4439-9c48-62735d6aa202",
   "metadata": {},
   "source": [
    "The visualizations shows a comparative histogram overlaid with a Kernel Density Estimate (KDE) plot for average ranks on Spotify and Billboard. The colored sky blue one is for Spotify and the colored red one id for Billboard. The sky blue histogram and curve suggest that the Spotify average ranks have a wide distribution with a slight concentration around the 40-60 rank range. The red histogram and curve indicate that the Billboard ranks are also broadly distributed but have a more pronounced peak around the 40-60 rank range. There is a substantial overlap in the middle range of the distributions, suggesting a commonality in the middle ranks between Spotify and Billboard. However, there may be slight differences in the distribution tails, which could indicate variations in how the lower and higher ranked artists compare on both platforms."
   ]
  },
  {
   "cell_type": "markdown",
   "id": "98562746-b3a3-4d79-8437-d44d0987f343",
   "metadata": {},
   "source": [
    "#### 4. Create Bar Charts to Compare Top Artists on Spotify and Billboard"
   ]
  },
  {
   "cell_type": "code",
   "execution_count": 351,
   "id": "0f691bcb-18de-4ee6-8953-11031181f7d6",
   "metadata": {},
   "outputs": [
    {
     "data": {
      "image/png": "[encoded data removed]",
      "text/plain": [
       "<Figure size 1080x432 with 2 Axes>"
      ]
     },
     "metadata": {},
     "output_type": "display_data"
    }
   ],
   "source": [
    "# Determine the top artists on each platform by the number of songs they have.\n",
    "\n",
    "# Spotify Top Artists\n",
    "top_artists_spotify = spotify_df['artist'].value_counts().head(10)\n",
    "# Billboard Top Artists\n",
    "top_artists_billboard = billboard_df['artist'].value_counts().head(10)\n",
    "\n",
    "# Create bar charts for visual comparison for Top Performing Artists, compare the number of songs by the top artists on each chart.\n",
    "# Set the size of the overall figure\n",
    "plt.figure(figsize=(15, 6))\n",
    "\n",
    "# Bar chart for Spotify\n",
    "plt.subplot(1, 2, 1)\n",
    "sns.barplot(x=top_artists_spotify, y=top_artists_spotify.index)\n",
    "plt.title('Top Artists on Spotify (2021)')\n",
    "plt.xlabel('Number of Songs')\n",
    "plt.ylabel('Artist')\n",
    "\n",
    "# Bar chart for Billboard\n",
    "plt.subplot(1, 2, 2)\n",
    "sns.barplot(x=top_artists_billboard, y=top_artists_billboard.index)\n",
    "plt.title('Top Artists on Billboard (2021)')\n",
    "plt.xlabel('Number of Songs')\n",
    "plt.ylabel('Artist')\n",
    "\n",
    "# Adjust layout for better visibility\n",
    "plt.tight_layout()\n",
    "\n",
    "# Display the charts\n",
    "plt.show()"
   ]
  },
  {
   "cell_type": "markdown",
   "id": "35c4192d-5a66-4e31-88a5-3cfec50ef3c9",
   "metadata": {},
   "source": [
    "From the output, we can see that Olivia Rodrigo is the top artist on both Spotify and Billboard based on the number of songs listed in 2021. Other artists like Morgan Wallen, Doja Cat, The Weeknd, and Kanye West who are appear on both lists, suggesting they were popular on both platforms. Artists like Taylor Swift and Polo G appear in the top 10 for Spotify but not for Billboard, while Luke Combs, Ariana Grande, Moneybagg Yo, and Drake appear in the top 10 for Billboard but not for Spotify. This indicates that there may be variations in audience preferences or how songs are promoted and consumed on each platform."
   ]
  },
  {
   "cell_type": "markdown",
   "id": "24fef8dc-eef6-4813-a566-099dea1e62fa",
   "metadata": {},
   "source": [
    "#### 5. Create a Combined Popularity Metric to Visualize Top Artists"
   ]
  },
  {
   "cell_type": "code",
   "execution_count": 344,
   "id": "663ef3f2-1aeb-414d-993d-3527c0a19cd6",
   "metadata": {},
   "outputs": [
    {
     "data": {
      "image/png": "[encoded data removed]",
      "text/plain": [
       "<Figure size 864x432 with 1 Axes>"
      ]
     },
     "metadata": {},
     "output_type": "display_data"
    }
   ],
   "source": [
    "# Combined metric example: (Normalized Spotify Streams + Normalized Billboard Weeks) / 2\n",
    "combined_df['Combined_Popularity'] = (combined_df['Spotify_Total_Streams'] / combined_df['Spotify_Total_Streams'].max() + \n",
    "                                        combined_df['Billboard_Total_Weeks'] / combined_df['Billboard_Total_Weeks'].max()) / 2\n",
    "\n",
    "# Selecting top artists for visualization\n",
    "top_combined_artists = combined_df.nlargest(10, 'Combined_Popularity')\n",
    "\n",
    "plt.figure(figsize=(12, 6))\n",
    "sns.barplot(x='artist_names', y='Combined_Popularity', data=top_combined_artists)\n",
    "plt.xticks(rotation=45)\n",
    "plt.title('Top Artists Based on Combined Popularity Metric')\n",
    "plt.xlabel('Artist')\n",
    "plt.ylabel('Combined Popularity Score')\n",
    "plt.show()"
   ]
  },
  {
   "cell_type": "markdown",
   "id": "42247988-cbc8-419d-bb25-0d160fb44852",
   "metadata": {},
   "source": [
    "This combined popularity metric provides a more holistic view of an artist's popularity than looking at either Spotify streams or Billboard chart presence alone. The combined popularity scores seem to have a quick drop-off after the first few artists, indicating a significant difference in combined popularity between the top-ranked artists and those ranked lower. Olivia Rodrigo's score is notably higher than the others, suggesting her dominance across both streaming and chart presence during the measured period."
   ]
  },
  {
   "cell_type": "markdown",
   "id": "c29b9fca-7d22-4633-990f-a27cf1932f13",
   "metadata": {},
   "source": [
    "#### 6. Create a Bubble Chart to Compare Artist Popularity on Spotify vs Billboard"
   ]
  },
  {
   "cell_type": "code",
   "execution_count": 368,
   "id": "4dd75520-6ea7-4909-a676-de7994e64860",
   "metadata": {},
   "outputs": [
    {
     "data": {
      "image/png": "[encoded data removed]",
      "text/plain": [
       "<Figure size 864x576 with 1 Axes>"
      ]
     },
     "metadata": {},
     "output_type": "display_data"
    }
   ],
   "source": [
    "# Creat a Bubble Chart with Color Dimension and the size of the bubble represents either the total streams or total weeks on the chart.\n",
    "plt.figure(figsize=(12, 8))\n",
    "sns.scatterplot(data=combined_df, x='Spotify_Avg_Rank', y='Billboard_Avg_Rank', \n",
    "                size='Spotify_Total_Streams', hue='Billboard_Total_Weeks', \n",
    "                sizes=(50, 500), alpha=0.7)\n",
    "plt.title('Bubble Chart of Spotify vs Billboard Rankings')\n",
    "plt.xlabel('Spotify Average Rank')\n",
    "plt.ylabel('Billboard Average Rank')\n",
    "plt.gca().invert_xaxis() # Inverting X-axis\n",
    "plt.gca().invert_yaxis() # Inverting Y-axis\n",
    "plt.legend(title='Total Streams (Size) & Weeks on Chart (Color)')\n",
    "plt.show()"
   ]
  },
  {
   "cell_type": "markdown",
   "id": "da56ac85-ac82-4831-8119-68da5b8083fa",
   "metadata": {},
   "source": [
    "Each bubble represents an artist or a song, with its position indicating the average rank on Spotify and Billboard. The size of the bubble indicates the total number of streams on Spotify, with larger bubbles representing more streams. The color of the bubble corresponds to how long the song has been on the Billboard chart, with darker colors likely indicating longer periods. Some songs or artists with a high number of streams on Spotify (large bubbles) do not necessarily have a long presence on the Billboard chart (lighter colored bubbles), indicating possible differences in platform audience or song longevity. Conversely, some songs or artists with longer Billboard chart presence (darker bubbles) do not always correspond to high streaming numbers on Spotify (small bubbles), which might suggest different audience demographics or consumption patterns between the two platforms."
   ]
  },
  {
   "cell_type": "markdown",
   "id": "b7ba4f99-f770-4969-b927-ff18990fde4b",
   "metadata": {},
   "source": [
    "<font color='green'> Tips for Effective Visualization: Try to adjust the sizes parameter to ensure that bubbles are distinct and visually informative, and adjust the alpha parameter to make the chart more readable, especially if bubbles overlap."
   ]
  },
  {
   "cell_type": "code",
   "execution_count": 219,
   "id": "e9e7d286-aaff-49dd-aa84-a8c97a567434",
   "metadata": {},
   "outputs": [
    {
     "name": "stdout",
     "output_type": "stream",
     "text": [
      "Requirement already satisfied: matplotlib-venn in /Users/oyuesan/opt/anaconda3/lib/python3.9/site-packages (0.11.9)\n",
      "Requirement already satisfied: numpy in /Users/oyuesan/opt/anaconda3/lib/python3.9/site-packages (from matplotlib-venn) (1.22.4)\n",
      "Requirement already satisfied: scipy in /Users/oyuesan/opt/anaconda3/lib/python3.9/site-packages (from matplotlib-venn) (1.7.3)\n",
      "Requirement already satisfied: matplotlib in /Users/oyuesan/opt/anaconda3/lib/python3.9/site-packages (from matplotlib-venn) (3.5.1)\n",
      "Requirement already satisfied: kiwisolver>=1.0.1 in /Users/oyuesan/opt/anaconda3/lib/python3.9/site-packages (from matplotlib->matplotlib-venn) (1.3.2)\n",
      "Requirement already satisfied: pillow>=6.2.0 in /Users/oyuesan/opt/anaconda3/lib/python3.9/site-packages (from matplotlib->matplotlib-venn) (9.0.1)\n",
      "Requirement already satisfied: fonttools>=4.22.0 in /Users/oyuesan/opt/anaconda3/lib/python3.9/site-packages (from matplotlib->matplotlib-venn) (4.25.0)\n",
      "Requirement already satisfied: python-dateutil>=2.7 in /Users/oyuesan/opt/anaconda3/lib/python3.9/site-packages (from matplotlib->matplotlib-venn) (2.8.2)\n",
      "Requirement already satisfied: pyparsing>=2.2.1 in /Users/oyuesan/opt/anaconda3/lib/python3.9/site-packages (from matplotlib->matplotlib-venn) (3.0.4)\n",
      "Requirement already satisfied: cycler>=0.10 in /Users/oyuesan/opt/anaconda3/lib/python3.9/site-packages (from matplotlib->matplotlib-venn) (0.11.0)\n",
      "Requirement already satisfied: packaging>=20.0 in /Users/oyuesan/opt/anaconda3/lib/python3.9/site-packages (from matplotlib->matplotlib-venn) (21.3)\n",
      "Requirement already satisfied: six>=1.5 in /Users/oyuesan/opt/anaconda3/lib/python3.9/site-packages (from python-dateutil>=2.7->matplotlib->matplotlib-venn) (1.16.0)\n"
     ]
    }
   ],
   "source": [
    "!pip install matplotlib-venn"
   ]
  },
  {
   "cell_type": "markdown",
   "id": "1d427697-529a-44bc-9f5f-6884bb2d85a5",
   "metadata": {},
   "source": [
    "#### 7. Create a Heatmap of Artist Presence on Spotify and Billboard Charts"
   ]
  },
  {
   "cell_type": "code",
   "execution_count": 383,
   "id": "3a46c993-303e-4c58-bacf-90e3852a5945",
   "metadata": {},
   "outputs": [
    {
     "name": "stdout",
     "output_type": "stream",
     "text": [
      "Spotify DataFrame columns: Index(['song', 'artist', 'date', 'rank_spotify', 'weeks_on_charts',\n",
      "       'peak_rank', 'streams'],\n",
      "      dtype='object')\n",
      "Billboard DataFrame columns: Index(['song', 'artist', 'date', 'rank_billboard', 'weeks_on_charts',\n",
      "       'peak_rank'],\n",
      "      dtype='object')\n",
      "Combined DataFrame columns: Index(['song', 'artist', 'date_x', 'rank_spotify', 'weeks_on_charts_x',\n",
      "       'peak_rank_x', 'streams', 'date_y', 'rank_billboard',\n",
      "       'weeks_on_charts_y', 'peak_rank_y'],\n",
      "      dtype='object')\n"
     ]
    }
   ],
   "source": [
    "# Rename rank columns for clarity\n",
    "spotify_df.rename(columns={'rank': 'rank_spotify'}, inplace=True)\n",
    "billboard_df.rename(columns={'rank': 'rank_billboard'}, inplace=True)\n",
    "\n",
    "# Print column names to verify the changes\n",
    "print(\"Spotify DataFrame columns:\", spotify_df.columns)\n",
    "print(\"Billboard DataFrame columns:\", billboard_df.columns)\n",
    "\n",
    "# Merge datasets on artist and song\n",
    "combined_df = pd.merge(spotify_df, billboard_df, on=['artist', 'song'], how='outer')\n",
    "\n",
    "# Print column names of the combined DataFrame\n",
    "print(\"Combined DataFrame columns:\", combined_df.columns)"
   ]
  },
  {
   "cell_type": "code",
   "execution_count": 384,
   "id": "780b3e3c-af3d-4a4f-bbb8-8f3979e83e06",
   "metadata": {},
   "outputs": [
    {
     "data": {
      "image/png": "[encoded data removed]",
      "text/plain": [
       "<Figure size 720x1440 with 2 Axes>"
      ]
     },
     "metadata": {},
     "output_type": "display_data"
    }
   ],
   "source": [
    "# Filter out rows where either 'rank_spotify' or 'rank_billboard' is NaN, ensure we only analyze artists who have rankings on both platforms\n",
    "filtered_df = combined_df.dropna(subset=['rank_spotify', 'rank_billboard'])\n",
    "\n",
    "# Create a pivot table with the filtered data\n",
    "artist_pivot = filtered_df.pivot_table(index='artist', \n",
    "                                       values=['rank_spotify', 'rank_billboard'], \n",
    "                                       aggfunc='mean')\n",
    "\n",
    "# Fill any NaN values, if necessary (should be minimal or none after filtering)\n",
    "artist_pivot.fillna(0, inplace=True)\n",
    "\n",
    "# Plot the heatmap with an adjusted figure size\n",
    "plt.figure(figsize=(10, 20))  # Adjust the size as needed based on the number of artists\n",
    "sns.heatmap(artist_pivot, annot=True, cmap='coolwarm')\n",
    "plt.title('Heatmap of Artist Presence on Both Spotify and Billboard Charts')\n",
    "plt.xlabel('Chart')\n",
    "plt.ylabel('Artist')\n",
    "plt.show()"
   ]
  },
  {
   "cell_type": "markdown",
   "id": "4c46dc12-0d8d-4994-821e-a9df4d87684f",
   "metadata": {},
   "source": [
    "The overall distribution of colors across the heatmap gives a visual representation of how artists compare overall on the two platforms. The intensity of the color correlates with the rank's value. Darker reds indicate a higher rank (closer to 1), and darker blues suggest a lower rank (further away from 1). By comparing the color intensities for each artist across both platforms, stakeholders can determine where an artist is more popular or has a better ranking. For instance, \"ariana grande\" has relatively balanced rankings, but \"cardi b\" has a significantly higher ranking on Billboard compared to Spotify.  In addition, \"adele\" has an average rank of 23 on Spotify and 6.4 on Billboard, indicating a better average position on Billboard charts. This could suggest that Adele's music might be more popular or better promoted on Billboard compared to Spotify."
   ]
  },
  {
   "cell_type": "code",
   "execution_count": null,
   "id": "801f3060-4f07-4898-879a-489d72890c3a",
   "metadata": {},
   "outputs": [],
   "source": []
  }
 ],
 "metadata": {
  "kernelspec": {
   "display_name": "Python 3 (ipykernel)",
   "language": "python",
   "name": "python3"
  },
  "language_info": {
   "codemirror_mode": {
    "name": "ipython",
    "version": 3
   },
   "file_extension": ".py",
   "mimetype": "text/x-python",
   "name": "python",
   "nbconvert_exporter": "python",
   "pygments_lexer": "ipython3",
   "version": "3.9.12"
  }
 },
 "nbformat": 4,
 "nbformat_minor": 5
}
